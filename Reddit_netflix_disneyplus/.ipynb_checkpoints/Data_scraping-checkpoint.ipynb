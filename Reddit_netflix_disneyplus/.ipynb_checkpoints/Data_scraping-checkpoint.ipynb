{
 "cells": [
  {
   "cell_type": "code",
   "execution_count": null,
   "id": "7582b313-3f63-4313-90a2-58d5c3107b72",
   "metadata": {},
   "outputs": [],
   "source": [
    "# scraping netflix and disney+ data from reddit"
   ]
  },
  {
   "cell_type": "code",
   "execution_count": 8,
   "id": "819a0607-d610-47de-83a1-82e657d145e6",
   "metadata": {},
   "outputs": [],
   "source": [
    "import praw\n",
    "import csv\n",
    "\n",
    "reddit = praw.Reddit(client_id=\"J9DkcG5u07aSFtzqcuQ_sg\",\n",
    "                     client_secret=\"WtlvXqL5v7WpFdxDSqfc8vyNNSyCVQ\",\n",
    "                     user_agent=\"Team Streaming Services\")\n",
    "\n",
    "def get_subreddit(subreddit_name):\n",
    "\n",
    "    chosen_subreddit = reddit.subreddit(subreddit_name)\n",
    "\n",
    "    count = 0  \n",
    "\n",
    "    with open(f'{subreddit_name}_reddit_submissions.csv', 'w', newline='', encoding='utf-8') as csvfile:\n",
    "        fieldnames = ['title', 'selftext', 'ups', 'upvote_ratio', 'num_comments', 'author', \n",
    "                      'link_flair_text', 'awards', 'is_original_content', 'is_video', 'post_type', \n",
    "                      'domain', 'created_utc', 'pinned', 'locked', 'stickied']\n",
    "        writer = csv.DictWriter(csvfile, fieldnames=fieldnames)\n",
    "\n",
    "        writer.writeheader()\n",
    "\n",
    "        for category in ['hot', 'new', 'rising', 'controversial', 'top']:\n",
    "            submissions = getattr(chosen_subreddit, category)(limit=None)\n",
    "            for submission in submissions:\n",
    "                writer.writerow({\n",
    "                    'title': submission.title,\n",
    "                    'selftext': submission.selftext,\n",
    "                    'ups': submission.ups,\n",
    "                    'upvote_ratio': submission.upvote_ratio,\n",
    "                    'num_comments': submission.num_comments,\n",
    "                    'author': str(submission.author),\n",
    "                    'link_flair_text': submission.link_flair_text,\n",
    "                    'awards': len(submission.all_awardings),\n",
    "                    'is_original_content': submission.is_original_content,\n",
    "                    'is_video': submission.is_video,\n",
    "                    'post_type': 'text' if submission.is_self else 'link',\n",
    "                    'domain': submission.domain,\n",
    "                    'created_utc': submission.created_utc,\n",
    "                    'pinned': submission.pinned,\n",
    "                    'locked': submission.locked,\n",
    "                    'stickied': submission.stickied\n",
    "                })\n",
    "\n",
    "                count += 1\n",
    "                if count >= 10000:\n",
    "                    break\n",
    "\n",
    "            if count >= 10000:\n",
    "                break"
   ]
  },
  {
   "cell_type": "code",
   "execution_count": 9,
   "id": "8f7147ec-1d2b-4c85-bb26-09fa8af63318",
   "metadata": {},
   "outputs": [],
   "source": [
    "get_subreddit('Netflix')"
   ]
  },
  {
   "cell_type": "code",
   "execution_count": 10,
   "id": "f633bb10-58dc-4018-be57-26a629ed7469",
   "metadata": {},
   "outputs": [],
   "source": [
    "get_subreddit('DisneyPlus')"
   ]
  }
 ],
 "metadata": {
  "kernelspec": {
   "display_name": "Python 3 (ipykernel)",
   "language": "python",
   "name": "python3"
  },
  "language_info": {
   "codemirror_mode": {
    "name": "ipython",
    "version": 3
   },
   "file_extension": ".py",
   "mimetype": "text/x-python",
   "name": "python",
   "nbconvert_exporter": "python",
   "pygments_lexer": "ipython3",
   "version": "3.10.9"
  }
 },
 "nbformat": 4,
 "nbformat_minor": 5
}
