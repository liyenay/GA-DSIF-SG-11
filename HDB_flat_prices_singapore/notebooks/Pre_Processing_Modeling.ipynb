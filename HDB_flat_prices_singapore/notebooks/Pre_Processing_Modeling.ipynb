{
 "cells": [
  {
   "cell_type": "markdown",
   "id": "f70c3cc8-8ed8-4f47-b62c-815b586403d2",
   "metadata": {},
   "source": [
    "# Project 2 - HDB resale prices analysis\n",
    "by Liyena Yusoff\n",
    "\n",
    "## Contents:\n",
    "* Introduction\n",
    "* Problem Statement\n",
    "* Data Import\n",
    "* Feature Engineering\n",
    "* Prepocessing\n",
    "* Feature A Modeling\n",
    "* Feature B Modeling\n",
    "* Evaluation Metrics\n",
    "* Conclusions & Recommendations\n",
    "* Limitations\n",
    "\n",
    "## Introduction\n",
    "In the previous notebook, we performed data cleaning onto the [`train.csv`](datasets/train.csv) and [`test.csv`](datasets/train.csv) data and we did exploratory analysis and found out the following:\n",
    "* The `floor_area_sqm` has a strong positive correlation to the `resale_price`\n",
    "* The most number of resale houses sold were from Jurong West, Woodlands and Tampines\n",
    "* Towns with a higher average price of 4-room flats: Bukit Timah, Bukit Merah and Bishan\n",
    "* Towns with a lower average price of 4-room flats: Choa Chu Kang, Jurong West, Sembawang, Yishun\n",
    "* The number of amenities around the blocks might not affect the price of a hdb unit\n",
    "\n",
    "## Problem Statement\n",
    "To investigate the amenities and facilities that cause the highest change in price for a more efficient allocation of state resources in bringing up the appeal of seemingly undervalued units."
   ]
  },
  {
   "cell_type": "markdown",
   "id": "d668c34c-ca57-429b-a6c0-16750e61a327",
   "metadata": {},
   "source": [
    "## Data Import"
   ]
  },
  {
   "cell_type": "code",
   "execution_count": 1,
   "id": "d2af0426-42e6-4569-8919-d3692cd6529c",
   "metadata": {},
   "outputs": [],
   "source": [
    "import pandas as pd\n",
    "import numpy as np\n",
    "\n",
    "from sklearn.impute import SimpleImputer\n",
    "from sklearn.preprocessing import StandardScaler\n",
    "\n",
    "from sklearn.model_selection import train_test_split, GridSearchCV, KFold\n",
    "from sklearn.pipeline import Pipeline\n",
    "\n",
    "from sklearn.linear_model import LinearRegression, LassoCV, RidgeCV\n",
    "from sklearn.metrics import mean_squared_error,r2_score\n",
    "\n",
    "import matplotlib.pyplot as plt\n",
    "import seaborn as sns"
   ]
  },
  {
   "cell_type": "code",
   "execution_count": 67,
   "id": "a64c0928-4463-432a-960f-3e3b9708a9c6",
   "metadata": {},
   "outputs": [
    {
     "data": {
      "text/html": [
       "<div>\n",
       "<style scoped>\n",
       "    .dataframe tbody tr th:only-of-type {\n",
       "        vertical-align: middle;\n",
       "    }\n",
       "\n",
       "    .dataframe tbody tr th {\n",
       "        vertical-align: top;\n",
       "    }\n",
       "\n",
       "    .dataframe thead th {\n",
       "        text-align: right;\n",
       "    }\n",
       "</style>\n",
       "<table border=\"1\" class=\"dataframe\">\n",
       "  <thead>\n",
       "    <tr style=\"text-align: right;\">\n",
       "      <th></th>\n",
       "      <th>tranc_yearmonth</th>\n",
       "      <th>town</th>\n",
       "      <th>flat_type</th>\n",
       "      <th>block</th>\n",
       "      <th>street_name</th>\n",
       "      <th>floor_area_sqm</th>\n",
       "      <th>flat_model</th>\n",
       "      <th>lease_commence_date</th>\n",
       "      <th>resale_price</th>\n",
       "      <th>tranc_year</th>\n",
       "      <th>...</th>\n",
       "      <th>mrt_name</th>\n",
       "      <th>bus_interchange</th>\n",
       "      <th>bus_stop_nearest_distance</th>\n",
       "      <th>pri_sch_nearest_distance</th>\n",
       "      <th>pri_sch_name</th>\n",
       "      <th>pri_sch_affiliation</th>\n",
       "      <th>sec_sch_nearest_dist</th>\n",
       "      <th>sec_sch_name</th>\n",
       "      <th>cutoff_point</th>\n",
       "      <th>affiliation</th>\n",
       "    </tr>\n",
       "  </thead>\n",
       "  <tbody>\n",
       "    <tr>\n",
       "      <th>0</th>\n",
       "      <td>2012-07</td>\n",
       "      <td>BISHAN</td>\n",
       "      <td>5 ROOM</td>\n",
       "      <td>153</td>\n",
       "      <td>BISHAN ST 13</td>\n",
       "      <td>130.0</td>\n",
       "      <td>Improved</td>\n",
       "      <td>1987</td>\n",
       "      <td>665000.0</td>\n",
       "      <td>2012</td>\n",
       "      <td>...</td>\n",
       "      <td>Bishan</td>\n",
       "      <td>1</td>\n",
       "      <td>58.207761</td>\n",
       "      <td>415.607357</td>\n",
       "      <td>Kuo Chuan Presbyterian Primary School</td>\n",
       "      <td>1</td>\n",
       "      <td>447.894399</td>\n",
       "      <td>Kuo Chuan Presbyterian Secondary School</td>\n",
       "      <td>232</td>\n",
       "      <td>0</td>\n",
       "    </tr>\n",
       "    <tr>\n",
       "      <th>1</th>\n",
       "      <td>2012-04</td>\n",
       "      <td>BISHAN</td>\n",
       "      <td>4 ROOM</td>\n",
       "      <td>232</td>\n",
       "      <td>BISHAN ST 22</td>\n",
       "      <td>103.0</td>\n",
       "      <td>Model A</td>\n",
       "      <td>1992</td>\n",
       "      <td>550000.0</td>\n",
       "      <td>2012</td>\n",
       "      <td>...</td>\n",
       "      <td>Bishan</td>\n",
       "      <td>1</td>\n",
       "      <td>43.396521</td>\n",
       "      <td>389.515528</td>\n",
       "      <td>Catholic High School</td>\n",
       "      <td>1</td>\n",
       "      <td>389.515528</td>\n",
       "      <td>Catholic High School</td>\n",
       "      <td>253</td>\n",
       "      <td>1</td>\n",
       "    </tr>\n",
       "    <tr>\n",
       "      <th>2</th>\n",
       "      <td>2017-12</td>\n",
       "      <td>YISHUN</td>\n",
       "      <td>4 ROOM</td>\n",
       "      <td>876</td>\n",
       "      <td>YISHUN ST 81</td>\n",
       "      <td>83.0</td>\n",
       "      <td>Simplified</td>\n",
       "      <td>1987</td>\n",
       "      <td>298000.0</td>\n",
       "      <td>2017</td>\n",
       "      <td>...</td>\n",
       "      <td>Khatib</td>\n",
       "      <td>0</td>\n",
       "      <td>129.422752</td>\n",
       "      <td>401.200584</td>\n",
       "      <td>Naval Base Primary School</td>\n",
       "      <td>0</td>\n",
       "      <td>312.025435</td>\n",
       "      <td>Orchid Park Secondary School</td>\n",
       "      <td>208</td>\n",
       "      <td>0</td>\n",
       "    </tr>\n",
       "    <tr>\n",
       "      <th>3</th>\n",
       "      <td>2013-01</td>\n",
       "      <td>GEYLANG</td>\n",
       "      <td>3 ROOM</td>\n",
       "      <td>95</td>\n",
       "      <td>ALJUNIED CRES</td>\n",
       "      <td>65.0</td>\n",
       "      <td>Improved</td>\n",
       "      <td>1975</td>\n",
       "      <td>335000.0</td>\n",
       "      <td>2013</td>\n",
       "      <td>...</td>\n",
       "      <td>MacPherson</td>\n",
       "      <td>0</td>\n",
       "      <td>229.680469</td>\n",
       "      <td>594.128568</td>\n",
       "      <td>Saint Margaret's Primary School</td>\n",
       "      <td>1</td>\n",
       "      <td>608.838174</td>\n",
       "      <td>Geylang Methodist School</td>\n",
       "      <td>224</td>\n",
       "      <td>0</td>\n",
       "    </tr>\n",
       "    <tr>\n",
       "      <th>4</th>\n",
       "      <td>2018-05</td>\n",
       "      <td>HOUGANG</td>\n",
       "      <td>5 ROOM</td>\n",
       "      <td>641</td>\n",
       "      <td>HOUGANG AVE 8</td>\n",
       "      <td>120.0</td>\n",
       "      <td>Improved</td>\n",
       "      <td>1987</td>\n",
       "      <td>433000.0</td>\n",
       "      <td>2018</td>\n",
       "      <td>...</td>\n",
       "      <td>Kovan</td>\n",
       "      <td>0</td>\n",
       "      <td>46.567429</td>\n",
       "      <td>331.669318</td>\n",
       "      <td>Xinmin Primary School</td>\n",
       "      <td>0</td>\n",
       "      <td>294.826501</td>\n",
       "      <td>Bowen Secondary School</td>\n",
       "      <td>224</td>\n",
       "      <td>0</td>\n",
       "    </tr>\n",
       "  </tbody>\n",
       "</table>\n",
       "<p>5 rows × 41 columns</p>\n",
       "</div>"
      ],
      "text/plain": [
       "  tranc_yearmonth     town flat_type block    street_name  floor_area_sqm  \\\n",
       "0         2012-07   BISHAN    5 ROOM   153   BISHAN ST 13           130.0   \n",
       "1         2012-04   BISHAN    4 ROOM   232   BISHAN ST 22           103.0   \n",
       "2         2017-12   YISHUN    4 ROOM   876   YISHUN ST 81            83.0   \n",
       "3         2013-01  GEYLANG    3 ROOM    95  ALJUNIED CRES            65.0   \n",
       "4         2018-05  HOUGANG    5 ROOM   641  HOUGANG AVE 8           120.0   \n",
       "\n",
       "   flat_model  lease_commence_date  resale_price  tranc_year  ...    mrt_name  \\\n",
       "0    Improved                 1987      665000.0        2012  ...      Bishan   \n",
       "1     Model A                 1992      550000.0        2012  ...      Bishan   \n",
       "2  Simplified                 1987      298000.0        2017  ...      Khatib   \n",
       "3    Improved                 1975      335000.0        2013  ...  MacPherson   \n",
       "4    Improved                 1987      433000.0        2018  ...       Kovan   \n",
       "\n",
       "   bus_interchange  bus_stop_nearest_distance  pri_sch_nearest_distance  \\\n",
       "0                1                  58.207761                415.607357   \n",
       "1                1                  43.396521                389.515528   \n",
       "2                0                 129.422752                401.200584   \n",
       "3                0                 229.680469                594.128568   \n",
       "4                0                  46.567429                331.669318   \n",
       "\n",
       "                            pri_sch_name  pri_sch_affiliation  \\\n",
       "0  Kuo Chuan Presbyterian Primary School                    1   \n",
       "1                   Catholic High School                    1   \n",
       "2              Naval Base Primary School                    0   \n",
       "3        Saint Margaret's Primary School                    1   \n",
       "4                  Xinmin Primary School                    0   \n",
       "\n",
       "   sec_sch_nearest_dist                             sec_sch_name  \\\n",
       "0            447.894399  Kuo Chuan Presbyterian Secondary School   \n",
       "1            389.515528                     Catholic High School   \n",
       "2            312.025435             Orchid Park Secondary School   \n",
       "3            608.838174                 Geylang Methodist School   \n",
       "4            294.826501                   Bowen Secondary School   \n",
       "\n",
       "   cutoff_point affiliation  \n",
       "0           232           0  \n",
       "1           253           1  \n",
       "2           208           0  \n",
       "3           224           0  \n",
       "4           224           0  \n",
       "\n",
       "[5 rows x 41 columns]"
      ]
     },
     "execution_count": 67,
     "metadata": {},
     "output_type": "execute_result"
    }
   ],
   "source": [
    "df = pd.read_csv('datasets/hdb_data_cleaned.csv')\n",
    "df.head()"
   ]
  },
  {
   "cell_type": "markdown",
   "id": "5400399d-e960-4473-aed7-f4e09ae3b63c",
   "metadata": {},
   "source": [
    "1. Train-test-split\n",
    "2. Transform data - scale and/or get dummy"
   ]
  },
  {
   "cell_type": "code",
   "execution_count": 3,
   "id": "add255b4-8cec-4ec5-9fc9-0ed8ad36ecc7",
   "metadata": {},
   "outputs": [
    {
     "data": {
      "text/plain": [
       "Index(['tranc_yearmonth', 'town', 'flat_type', 'block', 'street_name',\n",
       "       'floor_area_sqm', 'flat_model', 'lease_commence_date', 'resale_price',\n",
       "       'tranc_year', 'tranc_month', 'storey', 'hdb_age', 'max_floor_lvl',\n",
       "       'commercial', 'market_hawker', 'multistorey_carpark',\n",
       "       'precinct_pavilion', 'total_dwelling_units', 'planning_area',\n",
       "       'mall_nearest_distance', 'mall_within_500m', 'mall_within_1km',\n",
       "       'mall_within_2km', 'hawker_nearest_distance', 'hawker_within_500m',\n",
       "       'hawker_within_1km', 'hawker_within_2km', 'hawker_food_stalls',\n",
       "       'hawker_market_stalls', 'mrt_nearest_distance', 'mrt_name',\n",
       "       'bus_interchange', 'bus_stop_nearest_distance',\n",
       "       'pri_sch_nearest_distance', 'pri_sch_name', 'pri_sch_affiliation',\n",
       "       'sec_sch_nearest_dist', 'sec_sch_name', 'cutoff_point', 'affiliation'],\n",
       "      dtype='object')"
      ]
     },
     "execution_count": 3,
     "metadata": {},
     "output_type": "execute_result"
    }
   ],
   "source": [
    "df.columns"
   ]
  },
  {
   "cell_type": "code",
   "execution_count": 4,
   "id": "602f3692-417e-4b17-b994-6d0a1a76eafb",
   "metadata": {},
   "outputs": [
    {
     "data": {
      "text/html": [
       "<div>\n",
       "<style scoped>\n",
       "    .dataframe tbody tr th:only-of-type {\n",
       "        vertical-align: middle;\n",
       "    }\n",
       "\n",
       "    .dataframe tbody tr th {\n",
       "        vertical-align: top;\n",
       "    }\n",
       "\n",
       "    .dataframe thead th {\n",
       "        text-align: right;\n",
       "    }\n",
       "</style>\n",
       "<table border=\"1\" class=\"dataframe\">\n",
       "  <thead>\n",
       "    <tr style=\"text-align: right;\">\n",
       "      <th></th>\n",
       "      <th>pri_sch_name</th>\n",
       "      <th>sec_sch_name</th>\n",
       "      <th>bus_interchange</th>\n",
       "      <th>pri_sch_affiliation</th>\n",
       "      <th>affiliation</th>\n",
       "    </tr>\n",
       "  </thead>\n",
       "  <tbody>\n",
       "    <tr>\n",
       "      <th>0</th>\n",
       "      <td>Kuo Chuan Presbyterian Primary School</td>\n",
       "      <td>Kuo Chuan Presbyterian Secondary School</td>\n",
       "      <td>1</td>\n",
       "      <td>1</td>\n",
       "      <td>0</td>\n",
       "    </tr>\n",
       "    <tr>\n",
       "      <th>1</th>\n",
       "      <td>Catholic High School</td>\n",
       "      <td>Catholic High School</td>\n",
       "      <td>1</td>\n",
       "      <td>1</td>\n",
       "      <td>1</td>\n",
       "    </tr>\n",
       "    <tr>\n",
       "      <th>2</th>\n",
       "      <td>Naval Base Primary School</td>\n",
       "      <td>Orchid Park Secondary School</td>\n",
       "      <td>0</td>\n",
       "      <td>0</td>\n",
       "      <td>0</td>\n",
       "    </tr>\n",
       "    <tr>\n",
       "      <th>3</th>\n",
       "      <td>Saint Margaret's Primary School</td>\n",
       "      <td>Geylang Methodist School</td>\n",
       "      <td>0</td>\n",
       "      <td>1</td>\n",
       "      <td>0</td>\n",
       "    </tr>\n",
       "    <tr>\n",
       "      <th>4</th>\n",
       "      <td>Xinmin Primary School</td>\n",
       "      <td>Bowen Secondary School</td>\n",
       "      <td>0</td>\n",
       "      <td>0</td>\n",
       "      <td>0</td>\n",
       "    </tr>\n",
       "    <tr>\n",
       "      <th>...</th>\n",
       "      <td>...</td>\n",
       "      <td>...</td>\n",
       "      <td>...</td>\n",
       "      <td>...</td>\n",
       "      <td>...</td>\n",
       "    </tr>\n",
       "    <tr>\n",
       "      <th>134087</th>\n",
       "      <td>Evergreen Primary School</td>\n",
       "      <td>Evergreen Secondary School</td>\n",
       "      <td>1</td>\n",
       "      <td>0</td>\n",
       "      <td>0</td>\n",
       "    </tr>\n",
       "    <tr>\n",
       "      <th>134088</th>\n",
       "      <td>Jurong West Primary School</td>\n",
       "      <td>Boon Lay Secondary School</td>\n",
       "      <td>0</td>\n",
       "      <td>0</td>\n",
       "      <td>0</td>\n",
       "    </tr>\n",
       "    <tr>\n",
       "      <th>134089</th>\n",
       "      <td>Maha Bodhi School</td>\n",
       "      <td>Manjusri Secondary School</td>\n",
       "      <td>0</td>\n",
       "      <td>1</td>\n",
       "      <td>0</td>\n",
       "    </tr>\n",
       "    <tr>\n",
       "      <th>134090</th>\n",
       "      <td>New Town Primary School</td>\n",
       "      <td>Queensway Secondary School</td>\n",
       "      <td>0</td>\n",
       "      <td>0</td>\n",
       "      <td>0</td>\n",
       "    </tr>\n",
       "    <tr>\n",
       "      <th>134091</th>\n",
       "      <td>Northland Primary School</td>\n",
       "      <td>Orchid Park Secondary School</td>\n",
       "      <td>0</td>\n",
       "      <td>0</td>\n",
       "      <td>0</td>\n",
       "    </tr>\n",
       "  </tbody>\n",
       "</table>\n",
       "<p>134092 rows × 5 columns</p>\n",
       "</div>"
      ],
      "text/plain": [
       "                                 pri_sch_name  \\\n",
       "0       Kuo Chuan Presbyterian Primary School   \n",
       "1                        Catholic High School   \n",
       "2                   Naval Base Primary School   \n",
       "3             Saint Margaret's Primary School   \n",
       "4                       Xinmin Primary School   \n",
       "...                                       ...   \n",
       "134087               Evergreen Primary School   \n",
       "134088             Jurong West Primary School   \n",
       "134089                      Maha Bodhi School   \n",
       "134090                New Town Primary School   \n",
       "134091               Northland Primary School   \n",
       "\n",
       "                                   sec_sch_name  bus_interchange  \\\n",
       "0       Kuo Chuan Presbyterian Secondary School                1   \n",
       "1                          Catholic High School                1   \n",
       "2                  Orchid Park Secondary School                0   \n",
       "3                      Geylang Methodist School                0   \n",
       "4                        Bowen Secondary School                0   \n",
       "...                                         ...              ...   \n",
       "134087               Evergreen Secondary School                1   \n",
       "134088                Boon Lay Secondary School                0   \n",
       "134089                Manjusri Secondary School                0   \n",
       "134090               Queensway Secondary School                0   \n",
       "134091             Orchid Park Secondary School                0   \n",
       "\n",
       "        pri_sch_affiliation  affiliation  \n",
       "0                         1            0  \n",
       "1                         1            1  \n",
       "2                         0            0  \n",
       "3                         1            0  \n",
       "4                         0            0  \n",
       "...                     ...          ...  \n",
       "134087                    0            0  \n",
       "134088                    0            0  \n",
       "134089                    1            0  \n",
       "134090                    0            0  \n",
       "134091                    0            0  \n",
       "\n",
       "[134092 rows x 5 columns]"
      ]
     },
     "execution_count": 4,
     "metadata": {},
     "output_type": "execute_result"
    }
   ],
   "source": [
    "df[['pri_sch_name','sec_sch_name','bus_interchange','pri_sch_affiliation', 'affiliation']]"
   ]
  },
  {
   "cell_type": "markdown",
   "id": "cf7914e2-ffa6-45b6-b18c-ba3d4e002548",
   "metadata": {},
   "source": [
    "# Feature Engineering"
   ]
  },
  {
   "cell_type": "markdown",
   "id": "212935ff-efa9-4e22-aa5d-5fddc6499279",
   "metadata": {},
   "source": [
    "Three functions are defined for column interactions:<br>\n",
    "* `feature_eng` for binary columns, power 2\n",
    "* `feature_eng_3` for binary columns, power 3\n",
    "* `feature_eng_num` for numerical columns, power 2"
   ]
  },
  {
   "cell_type": "code",
   "execution_count": 5,
   "id": "1ef11b9e-abf8-441b-96cb-956990204d22",
   "metadata": {},
   "outputs": [],
   "source": [
    "def feature_eng(df, a, b, new_col):\n",
    "    \n",
    "    conditions = [\n",
    "    (df[a] == 0) & (df[b] == 0),\n",
    "    (df[a] == 1) | (df[b] == 1),\n",
    "    (df[a] == 1) & (df[b] == 1)\n",
    "    ]\n",
    "\n",
    "    values = [0, 1, 2]\n",
    "\n",
    "# Create the new categorical column based on the conditions\n",
    "    df[new_col] = np.select(conditions, values, default=0)"
   ]
  },
  {
   "cell_type": "code",
   "execution_count": 6,
   "id": "18b66a7f-0b4f-4a7e-968a-60b6837e0387",
   "metadata": {},
   "outputs": [],
   "source": [
    "feature_eng(df, 'commercial','multistorey_carpark','comm_mscp')\n",
    "\n",
    "feature_eng(df, 'multistorey_carpark','precinct_pavilion','mscp_pavi')\n",
    "\n",
    "feature_eng(df, 'commercial','precinct_pavilion','comm_pavi')\n",
    "\n",
    "feature_eng(df, 'market_hawker','precinct_pavilion','mar_haw_pavi')"
   ]
  },
  {
   "cell_type": "code",
   "execution_count": 7,
   "id": "a551803e-5bdb-435e-bae2-775cb797ea1a",
   "metadata": {},
   "outputs": [],
   "source": [
    "def feature_eng_3(df, a, b,c, new_col):\n",
    "    conditions = [\n",
    "    (df[a] == 0) & (df[b] == 0) & (df[c] == 0),\n",
    "    (df[a] == 1) & (df[b] == 1) & (df[c] == 1)\n",
    "    ]\n",
    "\n",
    "# Define the corresponding values for each condition\n",
    "    values = [0, 1]\n",
    "\n",
    "# Create the new categorical column based on the conditions\n",
    "    df[new_col] = np.select(conditions, values, default=0)"
   ]
  },
  {
   "cell_type": "code",
   "execution_count": 8,
   "id": "ed2b8483-06a2-45fc-bab5-fe8a1f1465a3",
   "metadata": {},
   "outputs": [],
   "source": [
    "feature_eng_3(df, 'multistorey_carpark','precinct_pavilion','market_hawker','mscp_pavi_mar_haw')"
   ]
  },
  {
   "cell_type": "code",
   "execution_count": 9,
   "id": "bc1fafc6-569c-4f0c-91c4-eea58f7b744f",
   "metadata": {},
   "outputs": [],
   "source": [
    "# feature eng numeric (non binary)\n",
    "\n",
    "def feature_eng_num(df,a,b,new_col):\n",
    "    \n",
    "    df[new_col] = df[a]*df[b]"
   ]
  },
  {
   "cell_type": "code",
   "execution_count": 10,
   "id": "00a0c780-a705-4978-b826-8d9cd001fbf7",
   "metadata": {},
   "outputs": [],
   "source": [
    "feature_eng_num(df, 'mrt_nearest_distance', 'pri_sch_nearest_distance','mrt_pri_dist')\n",
    "\n",
    "feature_eng_num(df, 'hawker_food_stalls', 'hawker_market_stalls','food_mark_stalls')"
   ]
  },
  {
   "cell_type": "markdown",
   "id": "3c21724d-c7e2-461a-8a0c-24a0e54d0c84",
   "metadata": {},
   "source": [
    "## Feature selection and Modeling with Feature A\n",
    "\n",
    "We have come up with 2 sets of features to compare where Feature A consists of interacting features."
   ]
  },
  {
   "cell_type": "code",
   "execution_count": 11,
   "id": "e0253f55-76f2-49da-ac89-f1f9a28b71b7",
   "metadata": {},
   "outputs": [],
   "source": [
    "features = [\"food_mark_stalls\",\"mrt_pri_dist\",\"mar_haw_pavi\",\"comm_pavi\",\"mscp_pavi\",\n",
    "            \"comm_mscp\",\"flat_model\", \"floor_area_sqm\",\"storey\",\"hdb_age\", \n",
    "            \"mrt_name\", \"mall_nearest_distance\", \"precinct_pavilion\",\n",
    "          \"hawker_food_stalls\", \"hawker_market_stalls\", \"mrt_nearest_distance\", \n",
    "          \"pri_sch_nearest_distance\", \"pri_sch_name\",\"sec_sch_name\", \"tranc_year\",\"tranc_month\",\n",
    "          \"flat_type\", \"cutoff_point\"]\n",
    "\n",
    "X = df[features]\n",
    "y = df['resale_price']"
   ]
  },
  {
   "cell_type": "code",
   "execution_count": 12,
   "id": "c205e5ca-7510-4a93-b7e5-80a3536b2b08",
   "metadata": {},
   "outputs": [
    {
     "name": "stdout",
     "output_type": "stream",
     "text": [
      "(100569, 23)\n",
      "(33523, 23)\n",
      "(100569,)\n",
      "(33523,)\n"
     ]
    }
   ],
   "source": [
    "X_train, X_test, y_train, y_test = train_test_split(X,y, test_size=0.25, random_state=30)\n",
    "\n",
    "print(X_train.shape)\n",
    "print(X_test.shape)\n",
    "print(y_train.shape)\n",
    "print(y_test.shape)"
   ]
  },
  {
   "cell_type": "markdown",
   "id": "ef8a8b01-1eba-41df-85ee-c7a500e0d5f8",
   "metadata": {},
   "source": [
    "Dummifying categorical columns such as `flat_model`,`flat_type`,`pri_sch_name`,`sec_sch_name`,`planning_area`."
   ]
  },
  {
   "cell_type": "code",
   "execution_count": 13,
   "id": "bdecdbc9-3d6a-4217-af53-9e0c145a1ecb",
   "metadata": {},
   "outputs": [],
   "source": [
    "X_train = pd.get_dummies(data= X_train, columns=['flat_model'], prefix='model')\n",
    "X_train = pd.get_dummies(data= X_train, columns=['flat_type'], prefix='type')\n",
    "X_train = pd.get_dummies(data=X_train, columns=['pri_sch_name'], prefix='pri')\n",
    "X_train = pd.get_dummies(data=X_train, columns=['sec_sch_name'], prefix='sec')\n",
    "X_train = pd.get_dummies(data=X_train, columns=['mrt_name'], prefix='mrt')\n",
    "\n",
    "\n",
    "X_test = pd.get_dummies(data= X_test, columns=['flat_model'], prefix='model')\n",
    "X_test = pd.get_dummies(data= X_test, columns=['flat_type'], prefix='type')\n",
    "X_test = pd.get_dummies(data=X_test, columns=['pri_sch_name'], prefix='pri')\n",
    "X_test = pd.get_dummies(data=X_test, columns=['sec_sch_name'], prefix='sec')\n",
    "X_test = pd.get_dummies(data=X_test, columns=['mrt_name'], prefix='mrt')"
   ]
  },
  {
   "cell_type": "markdown",
   "id": "820cc779-4b3c-47cc-9bd1-754355680bb0",
   "metadata": {},
   "source": [
    "Checking the shape of `X_train` and `X_test`."
   ]
  },
  {
   "cell_type": "code",
   "execution_count": 14,
   "id": "2bdaf248-1d78-4b72-b584-c919e743c9de",
   "metadata": {},
   "outputs": [
    {
     "name": "stdout",
     "output_type": "stream",
     "text": [
      "(100569, 438)\n",
      "(33523, 436)\n"
     ]
    }
   ],
   "source": [
    "print(X_train.shape)\n",
    "print(X_test.shape)"
   ]
  },
  {
   "cell_type": "markdown",
   "id": "8d040849-f8e0-41d4-a457-81fbf277f7ba",
   "metadata": {},
   "source": [
    "Adding columns to both `X_train` and `X_test` for before modeling and reordering the columns in `X_test` to match those in `X_train`."
   ]
  },
  {
   "cell_type": "code",
   "execution_count": 15,
   "id": "9d1ca69f-b473-4178-8fa3-dfb8ee2410de",
   "metadata": {},
   "outputs": [
    {
     "name": "stdout",
     "output_type": "stream",
     "text": [
      "(100569, 438)\n",
      "(33523, 436)\n",
      "Index(['food_mark_stalls', 'mrt_pri_dist', 'mar_haw_pavi', 'comm_pavi',\n",
      "       'mscp_pavi', 'comm_mscp', 'floor_area_sqm', 'storey', 'hdb_age',\n",
      "       'mall_nearest_distance',\n",
      "       ...\n",
      "       'mrt_Ubi', 'mrt_Upper Changi', 'mrt_Woodlands', 'mrt_Woodlands North',\n",
      "       'mrt_Woodlands South', 'mrt_Woodleigh', 'mrt_Yew Tee',\n",
      "       'mrt_Yio Chu Kang', 'mrt_Yishun', 'mrt_one-north'],\n",
      "      dtype='object', length=438)\n",
      "Index(['food_mark_stalls', 'mrt_pri_dist', 'mar_haw_pavi', 'comm_pavi',\n",
      "       'mscp_pavi', 'comm_mscp', 'floor_area_sqm', 'storey', 'hdb_age',\n",
      "       'mall_nearest_distance',\n",
      "       ...\n",
      "       'mrt_Ubi', 'mrt_Upper Changi', 'mrt_Woodlands', 'mrt_Woodlands North',\n",
      "       'mrt_Woodlands South', 'mrt_Woodleigh', 'mrt_Yew Tee',\n",
      "       'mrt_Yio Chu Kang', 'mrt_Yishun', 'mrt_one-north'],\n",
      "      dtype='object', length=436)\n"
     ]
    }
   ],
   "source": [
    "to_be_added = [x for x in X_test.columns if x not in X_train.columns]\n",
    "\n",
    "for i in to_be_added:\n",
    "    X_train[i]=0\n",
    "\n",
    "print(X_train.shape)\n",
    "print(X_test.shape)\n",
    "print(X_train.columns)\n",
    "print(X_test.columns)"
   ]
  },
  {
   "cell_type": "code",
   "execution_count": 16,
   "id": "8b622a92-e007-4c7d-8358-ff2f881ded5d",
   "metadata": {},
   "outputs": [
    {
     "name": "stdout",
     "output_type": "stream",
     "text": [
      "(100569, 438)\n",
      "(33523, 438)\n",
      "Index(['food_mark_stalls', 'mrt_pri_dist', 'mar_haw_pavi', 'comm_pavi',\n",
      "       'mscp_pavi', 'comm_mscp', 'floor_area_sqm', 'storey', 'hdb_age',\n",
      "       'mall_nearest_distance',\n",
      "       ...\n",
      "       'mrt_Ubi', 'mrt_Upper Changi', 'mrt_Woodlands', 'mrt_Woodlands North',\n",
      "       'mrt_Woodlands South', 'mrt_Woodleigh', 'mrt_Yew Tee',\n",
      "       'mrt_Yio Chu Kang', 'mrt_Yishun', 'mrt_one-north'],\n",
      "      dtype='object', length=438)\n",
      "Index(['food_mark_stalls', 'mrt_pri_dist', 'mar_haw_pavi', 'comm_pavi',\n",
      "       'mscp_pavi', 'comm_mscp', 'floor_area_sqm', 'storey', 'hdb_age',\n",
      "       'mall_nearest_distance',\n",
      "       ...\n",
      "       'mrt_Woodlands', 'mrt_Woodlands North', 'mrt_Woodlands South',\n",
      "       'mrt_Woodleigh', 'mrt_Yew Tee', 'mrt_Yio Chu Kang', 'mrt_Yishun',\n",
      "       'mrt_one-north', 'model_Premium Apartment Loft', 'model_Type S1'],\n",
      "      dtype='object', length=438)\n"
     ]
    }
   ],
   "source": [
    "to_be_added = [x for x in X_train.columns if x not in X_test.columns]\n",
    "\n",
    "for i in to_be_added:\n",
    "    X_test[i]=0\n",
    "\n",
    "print(X_train.shape)\n",
    "print(X_test.shape)\n",
    "print(X_train.columns)\n",
    "print(X_test.columns)"
   ]
  },
  {
   "cell_type": "code",
   "execution_count": 17,
   "id": "bba66657-5298-4d05-9b32-1f39f22634ad",
   "metadata": {},
   "outputs": [
    {
     "name": "stdout",
     "output_type": "stream",
     "text": [
      "Index(['food_mark_stalls', 'mrt_pri_dist', 'mar_haw_pavi', 'comm_pavi',\n",
      "       'mscp_pavi', 'comm_mscp', 'floor_area_sqm', 'storey', 'hdb_age',\n",
      "       'mall_nearest_distance',\n",
      "       ...\n",
      "       'mrt_Ubi', 'mrt_Upper Changi', 'mrt_Woodlands', 'mrt_Woodlands North',\n",
      "       'mrt_Woodlands South', 'mrt_Woodleigh', 'mrt_Yew Tee',\n",
      "       'mrt_Yio Chu Kang', 'mrt_Yishun', 'mrt_one-north'],\n",
      "      dtype='object', length=438)\n"
     ]
    }
   ],
   "source": [
    "# Define the desired order of columns\n",
    "column_order = X_train.columns.tolist()  # Use the column names from X_train\n",
    "\n",
    "# Reorder the columns in X_test\n",
    "X_test = X_test[column_order]\n",
    "\n",
    "print(X_test.columns)"
   ]
  },
  {
   "cell_type": "markdown",
   "id": "2ec8c6fe-bb30-405d-a8d7-42054bbcd237",
   "metadata": {},
   "source": [
    "## Modeling & Evaluation\n",
    "\n",
    "We will set a baseline model - Linear Regression as a point of comparison."
   ]
  },
  {
   "cell_type": "markdown",
   "id": "39fdc323-4ba7-49d7-bfa7-cc688150630b",
   "metadata": {},
   "source": [
    "### Linear Regression"
   ]
  },
  {
   "cell_type": "code",
   "execution_count": 18,
   "id": "f3655da0-4ca9-445b-b5fa-4d4d79252939",
   "metadata": {},
   "outputs": [],
   "source": [
    "pipe = Pipeline([('ss', StandardScaler()),\n",
    "                 ('lr', LinearRegression())])"
   ]
  },
  {
   "cell_type": "code",
   "execution_count": 19,
   "id": "6e2ae055-9e34-474e-b54f-67d726497505",
   "metadata": {},
   "outputs": [
    {
     "data": {
      "text/html": [
       "<style>#sk-container-id-1 {color: black;background-color: white;}#sk-container-id-1 pre{padding: 0;}#sk-container-id-1 div.sk-toggleable {background-color: white;}#sk-container-id-1 label.sk-toggleable__label {cursor: pointer;display: block;width: 100%;margin-bottom: 0;padding: 0.3em;box-sizing: border-box;text-align: center;}#sk-container-id-1 label.sk-toggleable__label-arrow:before {content: \"▸\";float: left;margin-right: 0.25em;color: #696969;}#sk-container-id-1 label.sk-toggleable__label-arrow:hover:before {color: black;}#sk-container-id-1 div.sk-estimator:hover label.sk-toggleable__label-arrow:before {color: black;}#sk-container-id-1 div.sk-toggleable__content {max-height: 0;max-width: 0;overflow: hidden;text-align: left;background-color: #f0f8ff;}#sk-container-id-1 div.sk-toggleable__content pre {margin: 0.2em;color: black;border-radius: 0.25em;background-color: #f0f8ff;}#sk-container-id-1 input.sk-toggleable__control:checked~div.sk-toggleable__content {max-height: 200px;max-width: 100%;overflow: auto;}#sk-container-id-1 input.sk-toggleable__control:checked~label.sk-toggleable__label-arrow:before {content: \"▾\";}#sk-container-id-1 div.sk-estimator input.sk-toggleable__control:checked~label.sk-toggleable__label {background-color: #d4ebff;}#sk-container-id-1 div.sk-label input.sk-toggleable__control:checked~label.sk-toggleable__label {background-color: #d4ebff;}#sk-container-id-1 input.sk-hidden--visually {border: 0;clip: rect(1px 1px 1px 1px);clip: rect(1px, 1px, 1px, 1px);height: 1px;margin: -1px;overflow: hidden;padding: 0;position: absolute;width: 1px;}#sk-container-id-1 div.sk-estimator {font-family: monospace;background-color: #f0f8ff;border: 1px dotted black;border-radius: 0.25em;box-sizing: border-box;margin-bottom: 0.5em;}#sk-container-id-1 div.sk-estimator:hover {background-color: #d4ebff;}#sk-container-id-1 div.sk-parallel-item::after {content: \"\";width: 100%;border-bottom: 1px solid gray;flex-grow: 1;}#sk-container-id-1 div.sk-label:hover label.sk-toggleable__label {background-color: #d4ebff;}#sk-container-id-1 div.sk-serial::before {content: \"\";position: absolute;border-left: 1px solid gray;box-sizing: border-box;top: 0;bottom: 0;left: 50%;z-index: 0;}#sk-container-id-1 div.sk-serial {display: flex;flex-direction: column;align-items: center;background-color: white;padding-right: 0.2em;padding-left: 0.2em;position: relative;}#sk-container-id-1 div.sk-item {position: relative;z-index: 1;}#sk-container-id-1 div.sk-parallel {display: flex;align-items: stretch;justify-content: center;background-color: white;position: relative;}#sk-container-id-1 div.sk-item::before, #sk-container-id-1 div.sk-parallel-item::before {content: \"\";position: absolute;border-left: 1px solid gray;box-sizing: border-box;top: 0;bottom: 0;left: 50%;z-index: -1;}#sk-container-id-1 div.sk-parallel-item {display: flex;flex-direction: column;z-index: 1;position: relative;background-color: white;}#sk-container-id-1 div.sk-parallel-item:first-child::after {align-self: flex-end;width: 50%;}#sk-container-id-1 div.sk-parallel-item:last-child::after {align-self: flex-start;width: 50%;}#sk-container-id-1 div.sk-parallel-item:only-child::after {width: 0;}#sk-container-id-1 div.sk-dashed-wrapped {border: 1px dashed gray;margin: 0 0.4em 0.5em 0.4em;box-sizing: border-box;padding-bottom: 0.4em;background-color: white;}#sk-container-id-1 div.sk-label label {font-family: monospace;font-weight: bold;display: inline-block;line-height: 1.2em;}#sk-container-id-1 div.sk-label-container {text-align: center;}#sk-container-id-1 div.sk-container {/* jupyter's `normalize.less` sets `[hidden] { display: none; }` but bootstrap.min.css set `[hidden] { display: none !important; }` so we also need the `!important` here to be able to override the default hidden behavior on the sphinx rendered scikit-learn.org. See: https://github.com/scikit-learn/scikit-learn/issues/21755 */display: inline-block !important;position: relative;}#sk-container-id-1 div.sk-text-repr-fallback {display: none;}</style><div id=\"sk-container-id-1\" class=\"sk-top-container\"><div class=\"sk-text-repr-fallback\"><pre>Pipeline(steps=[(&#x27;ss&#x27;, StandardScaler()), (&#x27;lr&#x27;, LinearRegression())])</pre><b>In a Jupyter environment, please rerun this cell to show the HTML representation or trust the notebook. <br />On GitHub, the HTML representation is unable to render, please try loading this page with nbviewer.org.</b></div><div class=\"sk-container\" hidden><div class=\"sk-item sk-dashed-wrapped\"><div class=\"sk-label-container\"><div class=\"sk-label sk-toggleable\"><input class=\"sk-toggleable__control sk-hidden--visually\" id=\"sk-estimator-id-1\" type=\"checkbox\" ><label for=\"sk-estimator-id-1\" class=\"sk-toggleable__label sk-toggleable__label-arrow\">Pipeline</label><div class=\"sk-toggleable__content\"><pre>Pipeline(steps=[(&#x27;ss&#x27;, StandardScaler()), (&#x27;lr&#x27;, LinearRegression())])</pre></div></div></div><div class=\"sk-serial\"><div class=\"sk-item\"><div class=\"sk-estimator sk-toggleable\"><input class=\"sk-toggleable__control sk-hidden--visually\" id=\"sk-estimator-id-2\" type=\"checkbox\" ><label for=\"sk-estimator-id-2\" class=\"sk-toggleable__label sk-toggleable__label-arrow\">StandardScaler</label><div class=\"sk-toggleable__content\"><pre>StandardScaler()</pre></div></div></div><div class=\"sk-item\"><div class=\"sk-estimator sk-toggleable\"><input class=\"sk-toggleable__control sk-hidden--visually\" id=\"sk-estimator-id-3\" type=\"checkbox\" ><label for=\"sk-estimator-id-3\" class=\"sk-toggleable__label sk-toggleable__label-arrow\">LinearRegression</label><div class=\"sk-toggleable__content\"><pre>LinearRegression()</pre></div></div></div></div></div></div></div>"
      ],
      "text/plain": [
       "Pipeline(steps=[('ss', StandardScaler()), ('lr', LinearRegression())])"
      ]
     },
     "execution_count": 19,
     "metadata": {},
     "output_type": "execute_result"
    }
   ],
   "source": [
    "pipe.fit(X_train, y_train)"
   ]
  },
  {
   "cell_type": "code",
   "execution_count": 20,
   "id": "468eb639-d4c9-469b-8c3d-c099f34f9a71",
   "metadata": {},
   "outputs": [],
   "source": [
    "y_train_preds = pipe.predict(X_train)\n",
    "y_test_preds = pipe.predict(X_test)"
   ]
  },
  {
   "cell_type": "code",
   "execution_count": 21,
   "id": "7b4b54ba-e2ec-434d-b3fb-65cd8394d3d0",
   "metadata": {},
   "outputs": [
    {
     "name": "stdout",
     "output_type": "stream",
     "text": [
      "RMSE train: 38610.845\n",
      "RMSE test: 38577.386\n",
      "R2 train: 0.8991\n",
      "R2 test: 0.8987\n"
     ]
    }
   ],
   "source": [
    "rmse_train = mean_squared_error(y_train,y_train_preds, squared=False)\n",
    "rmse_test = mean_squared_error(y_test,y_test_preds, squared=False)\n",
    "\n",
    "r2_train = r2_score(y_train,y_train_preds)\n",
    "r2_test = r2_score(y_test,y_test_preds)\n",
    "\n",
    "print(\"RMSE train:\",round(rmse_train,3))\n",
    "print(\"RMSE test:\",round(rmse_test,3))\n",
    "print(\"R2 train:\",round(r2_train,4))\n",
    "print(\"R2 test:\",round(r2_test,4))"
   ]
  },
  {
   "cell_type": "markdown",
   "id": "5c2a1b17-a387-4bbd-8049-6830be9ae30d",
   "metadata": {},
   "source": [
    "### LassoCV"
   ]
  },
  {
   "cell_type": "code",
   "execution_count": 22,
   "id": "c6ed61be-1e9a-46a0-b77f-7126bff6c7d8",
   "metadata": {},
   "outputs": [],
   "source": [
    "pipe2 = Pipeline([('ss', StandardScaler()),\n",
    "                 ('la', LassoCV(alphas=[0.01,0.1,2,5,100], cv=KFold(8), max_iter=10000))])"
   ]
  },
  {
   "cell_type": "code",
   "execution_count": 23,
   "id": "eb54f390-1073-4af0-8ed0-6cde9aa90074",
   "metadata": {
    "scrolled": true,
    "tags": []
   },
   "outputs": [
    {
     "name": "stderr",
     "output_type": "stream",
     "text": [
      "/Users/liyenauseff/anaconda3/lib/python3.10/site-packages/sklearn/linear_model/_coordinate_descent.py:617: ConvergenceWarning: Objective did not converge. You might want to increase the number of iterations. Duality gap: 1245337921873.4219, tolerance: 129672377304.79076\n",
      "  model = cd_fast.enet_coordinate_descent_gram(\n",
      "/Users/liyenauseff/anaconda3/lib/python3.10/site-packages/sklearn/linear_model/_coordinate_descent.py:617: ConvergenceWarning: Objective did not converge. You might want to increase the number of iterations. Duality gap: 12642089228735.422, tolerance: 129672377304.79076\n",
      "  model = cd_fast.enet_coordinate_descent_gram(\n",
      "/Users/liyenauseff/anaconda3/lib/python3.10/site-packages/sklearn/linear_model/_coordinate_descent.py:617: ConvergenceWarning: Objective did not converge. You might want to increase the number of iterations. Duality gap: 16667889511222.18, tolerance: 130181585682.88318\n",
      "  model = cd_fast.enet_coordinate_descent_gram(\n",
      "/Users/liyenauseff/anaconda3/lib/python3.10/site-packages/sklearn/linear_model/_coordinate_descent.py:617: ConvergenceWarning: Objective did not converge. You might want to increase the number of iterations. Duality gap: 33148827669164.523, tolerance: 130181585682.88318\n",
      "  model = cd_fast.enet_coordinate_descent_gram(\n",
      "/Users/liyenauseff/anaconda3/lib/python3.10/site-packages/sklearn/linear_model/_coordinate_descent.py:617: ConvergenceWarning: Objective did not converge. You might want to increase the number of iterations. Duality gap: 1803582469919.4375, tolerance: 130033744907.94861\n",
      "  model = cd_fast.enet_coordinate_descent_gram(\n",
      "/Users/liyenauseff/anaconda3/lib/python3.10/site-packages/sklearn/linear_model/_coordinate_descent.py:617: ConvergenceWarning: Objective did not converge. You might want to increase the number of iterations. Duality gap: 10535252817114.578, tolerance: 130033744907.94861\n",
      "  model = cd_fast.enet_coordinate_descent_gram(\n",
      "/Users/liyenauseff/anaconda3/lib/python3.10/site-packages/sklearn/linear_model/_coordinate_descent.py:617: ConvergenceWarning: Objective did not converge. You might want to increase the number of iterations. Duality gap: 3384287418896.1406, tolerance: 130058040751.11967\n",
      "  model = cd_fast.enet_coordinate_descent_gram(\n",
      "/Users/liyenauseff/anaconda3/lib/python3.10/site-packages/sklearn/linear_model/_coordinate_descent.py:617: ConvergenceWarning: Objective did not converge. You might want to increase the number of iterations. Duality gap: 23160399284073.28, tolerance: 130058040751.11967\n",
      "  model = cd_fast.enet_coordinate_descent_gram(\n",
      "/Users/liyenauseff/anaconda3/lib/python3.10/site-packages/sklearn/linear_model/_coordinate_descent.py:617: ConvergenceWarning: Objective did not converge. You might want to increase the number of iterations. Duality gap: 2071159563333.2344, tolerance: 130352677492.31831\n",
      "  model = cd_fast.enet_coordinate_descent_gram(\n",
      "/Users/liyenauseff/anaconda3/lib/python3.10/site-packages/sklearn/linear_model/_coordinate_descent.py:617: ConvergenceWarning: Objective did not converge. You might want to increase the number of iterations. Duality gap: 12113259140247.812, tolerance: 130352677492.31831\n",
      "  model = cd_fast.enet_coordinate_descent_gram(\n",
      "/Users/liyenauseff/anaconda3/lib/python3.10/site-packages/sklearn/linear_model/_coordinate_descent.py:617: ConvergenceWarning: Objective did not converge. You might want to increase the number of iterations. Duality gap: 3166264714675.7656, tolerance: 129499802023.64046\n",
      "  model = cd_fast.enet_coordinate_descent_gram(\n",
      "/Users/liyenauseff/anaconda3/lib/python3.10/site-packages/sklearn/linear_model/_coordinate_descent.py:617: ConvergenceWarning: Objective did not converge. You might want to increase the number of iterations. Duality gap: 3174707859606.3906, tolerance: 129499802023.64046\n",
      "  model = cd_fast.enet_coordinate_descent_gram(\n",
      "/Users/liyenauseff/anaconda3/lib/python3.10/site-packages/sklearn/linear_model/_coordinate_descent.py:617: ConvergenceWarning: Objective did not converge. You might want to increase the number of iterations. Duality gap: 3088181564256.8906, tolerance: 130117183863.06723\n",
      "  model = cd_fast.enet_coordinate_descent_gram(\n",
      "/Users/liyenauseff/anaconda3/lib/python3.10/site-packages/sklearn/linear_model/_coordinate_descent.py:617: ConvergenceWarning: Objective did not converge. You might want to increase the number of iterations. Duality gap: 22087568632460.67, tolerance: 130117183863.06723\n",
      "  model = cd_fast.enet_coordinate_descent_gram(\n",
      "/Users/liyenauseff/anaconda3/lib/python3.10/site-packages/sklearn/linear_model/_coordinate_descent.py:617: ConvergenceWarning: Objective did not converge. You might want to increase the number of iterations. Duality gap: 16124489054328.602, tolerance: 130339544499.85901\n",
      "  model = cd_fast.enet_coordinate_descent_gram(\n",
      "/Users/liyenauseff/anaconda3/lib/python3.10/site-packages/sklearn/linear_model/_coordinate_descent.py:617: ConvergenceWarning: Objective did not converge. You might want to increase the number of iterations. Duality gap: 33252359252998.203, tolerance: 130339544499.85901\n",
      "  model = cd_fast.enet_coordinate_descent_gram(\n"
     ]
    },
    {
     "name": "stdout",
     "output_type": "stream",
     "text": [
      "CPU times: user 1h 53min 35s, sys: 1min 19s, total: 1h 54min 55s\n",
      "Wall time: 11min 55s\n"
     ]
    },
    {
     "name": "stderr",
     "output_type": "stream",
     "text": [
      "/Users/liyenauseff/anaconda3/lib/python3.10/site-packages/sklearn/linear_model/_coordinate_descent.py:631: ConvergenceWarning: Objective did not converge. You might want to increase the number of iterations, check the scale of the features or consider increasing regularisation. Duality gap: 1.410e+13, tolerance: 1.486e+11\n",
      "  model = cd_fast.enet_coordinate_descent(\n"
     ]
    },
    {
     "data": {
      "text/html": [
       "<style>#sk-container-id-2 {color: black;background-color: white;}#sk-container-id-2 pre{padding: 0;}#sk-container-id-2 div.sk-toggleable {background-color: white;}#sk-container-id-2 label.sk-toggleable__label {cursor: pointer;display: block;width: 100%;margin-bottom: 0;padding: 0.3em;box-sizing: border-box;text-align: center;}#sk-container-id-2 label.sk-toggleable__label-arrow:before {content: \"▸\";float: left;margin-right: 0.25em;color: #696969;}#sk-container-id-2 label.sk-toggleable__label-arrow:hover:before {color: black;}#sk-container-id-2 div.sk-estimator:hover label.sk-toggleable__label-arrow:before {color: black;}#sk-container-id-2 div.sk-toggleable__content {max-height: 0;max-width: 0;overflow: hidden;text-align: left;background-color: #f0f8ff;}#sk-container-id-2 div.sk-toggleable__content pre {margin: 0.2em;color: black;border-radius: 0.25em;background-color: #f0f8ff;}#sk-container-id-2 input.sk-toggleable__control:checked~div.sk-toggleable__content {max-height: 200px;max-width: 100%;overflow: auto;}#sk-container-id-2 input.sk-toggleable__control:checked~label.sk-toggleable__label-arrow:before {content: \"▾\";}#sk-container-id-2 div.sk-estimator input.sk-toggleable__control:checked~label.sk-toggleable__label {background-color: #d4ebff;}#sk-container-id-2 div.sk-label input.sk-toggleable__control:checked~label.sk-toggleable__label {background-color: #d4ebff;}#sk-container-id-2 input.sk-hidden--visually {border: 0;clip: rect(1px 1px 1px 1px);clip: rect(1px, 1px, 1px, 1px);height: 1px;margin: -1px;overflow: hidden;padding: 0;position: absolute;width: 1px;}#sk-container-id-2 div.sk-estimator {font-family: monospace;background-color: #f0f8ff;border: 1px dotted black;border-radius: 0.25em;box-sizing: border-box;margin-bottom: 0.5em;}#sk-container-id-2 div.sk-estimator:hover {background-color: #d4ebff;}#sk-container-id-2 div.sk-parallel-item::after {content: \"\";width: 100%;border-bottom: 1px solid gray;flex-grow: 1;}#sk-container-id-2 div.sk-label:hover label.sk-toggleable__label {background-color: #d4ebff;}#sk-container-id-2 div.sk-serial::before {content: \"\";position: absolute;border-left: 1px solid gray;box-sizing: border-box;top: 0;bottom: 0;left: 50%;z-index: 0;}#sk-container-id-2 div.sk-serial {display: flex;flex-direction: column;align-items: center;background-color: white;padding-right: 0.2em;padding-left: 0.2em;position: relative;}#sk-container-id-2 div.sk-item {position: relative;z-index: 1;}#sk-container-id-2 div.sk-parallel {display: flex;align-items: stretch;justify-content: center;background-color: white;position: relative;}#sk-container-id-2 div.sk-item::before, #sk-container-id-2 div.sk-parallel-item::before {content: \"\";position: absolute;border-left: 1px solid gray;box-sizing: border-box;top: 0;bottom: 0;left: 50%;z-index: -1;}#sk-container-id-2 div.sk-parallel-item {display: flex;flex-direction: column;z-index: 1;position: relative;background-color: white;}#sk-container-id-2 div.sk-parallel-item:first-child::after {align-self: flex-end;width: 50%;}#sk-container-id-2 div.sk-parallel-item:last-child::after {align-self: flex-start;width: 50%;}#sk-container-id-2 div.sk-parallel-item:only-child::after {width: 0;}#sk-container-id-2 div.sk-dashed-wrapped {border: 1px dashed gray;margin: 0 0.4em 0.5em 0.4em;box-sizing: border-box;padding-bottom: 0.4em;background-color: white;}#sk-container-id-2 div.sk-label label {font-family: monospace;font-weight: bold;display: inline-block;line-height: 1.2em;}#sk-container-id-2 div.sk-label-container {text-align: center;}#sk-container-id-2 div.sk-container {/* jupyter's `normalize.less` sets `[hidden] { display: none; }` but bootstrap.min.css set `[hidden] { display: none !important; }` so we also need the `!important` here to be able to override the default hidden behavior on the sphinx rendered scikit-learn.org. See: https://github.com/scikit-learn/scikit-learn/issues/21755 */display: inline-block !important;position: relative;}#sk-container-id-2 div.sk-text-repr-fallback {display: none;}</style><div id=\"sk-container-id-2\" class=\"sk-top-container\"><div class=\"sk-text-repr-fallback\"><pre>Pipeline(steps=[(&#x27;ss&#x27;, StandardScaler()),\n",
       "                (&#x27;la&#x27;,\n",
       "                 LassoCV(alphas=[0.01, 0.1, 2, 5, 100],\n",
       "                         cv=KFold(n_splits=8, random_state=None, shuffle=False),\n",
       "                         max_iter=10000))])</pre><b>In a Jupyter environment, please rerun this cell to show the HTML representation or trust the notebook. <br />On GitHub, the HTML representation is unable to render, please try loading this page with nbviewer.org.</b></div><div class=\"sk-container\" hidden><div class=\"sk-item sk-dashed-wrapped\"><div class=\"sk-label-container\"><div class=\"sk-label sk-toggleable\"><input class=\"sk-toggleable__control sk-hidden--visually\" id=\"sk-estimator-id-4\" type=\"checkbox\" ><label for=\"sk-estimator-id-4\" class=\"sk-toggleable__label sk-toggleable__label-arrow\">Pipeline</label><div class=\"sk-toggleable__content\"><pre>Pipeline(steps=[(&#x27;ss&#x27;, StandardScaler()),\n",
       "                (&#x27;la&#x27;,\n",
       "                 LassoCV(alphas=[0.01, 0.1, 2, 5, 100],\n",
       "                         cv=KFold(n_splits=8, random_state=None, shuffle=False),\n",
       "                         max_iter=10000))])</pre></div></div></div><div class=\"sk-serial\"><div class=\"sk-item\"><div class=\"sk-estimator sk-toggleable\"><input class=\"sk-toggleable__control sk-hidden--visually\" id=\"sk-estimator-id-5\" type=\"checkbox\" ><label for=\"sk-estimator-id-5\" class=\"sk-toggleable__label sk-toggleable__label-arrow\">StandardScaler</label><div class=\"sk-toggleable__content\"><pre>StandardScaler()</pre></div></div></div><div class=\"sk-item\"><div class=\"sk-estimator sk-toggleable\"><input class=\"sk-toggleable__control sk-hidden--visually\" id=\"sk-estimator-id-6\" type=\"checkbox\" ><label for=\"sk-estimator-id-6\" class=\"sk-toggleable__label sk-toggleable__label-arrow\">LassoCV</label><div class=\"sk-toggleable__content\"><pre>LassoCV(alphas=[0.01, 0.1, 2, 5, 100],\n",
       "        cv=KFold(n_splits=8, random_state=None, shuffle=False), max_iter=10000)</pre></div></div></div></div></div></div></div>"
      ],
      "text/plain": [
       "Pipeline(steps=[('ss', StandardScaler()),\n",
       "                ('la',\n",
       "                 LassoCV(alphas=[0.01, 0.1, 2, 5, 100],\n",
       "                         cv=KFold(n_splits=8, random_state=None, shuffle=False),\n",
       "                         max_iter=10000))])"
      ]
     },
     "execution_count": 23,
     "metadata": {},
     "output_type": "execute_result"
    }
   ],
   "source": [
    "%%time\n",
    "pipe2.fit(X_train, y_train)"
   ]
  },
  {
   "cell_type": "code",
   "execution_count": 24,
   "id": "8a7cb764-4422-4e29-a5a2-610eddcd4701",
   "metadata": {},
   "outputs": [],
   "source": [
    "y_train_pred = pipe2.predict(X_train)\n",
    "y_test_pred = pipe2.predict(X_test)"
   ]
  },
  {
   "cell_type": "code",
   "execution_count": 25,
   "id": "7002e741-e33c-4ea0-af75-d739fd3615e8",
   "metadata": {},
   "outputs": [
    {
     "name": "stdout",
     "output_type": "stream",
     "text": [
      "RMSE train: 38607.449\n",
      "RMSE test: 38570.234\n",
      "R2 train: 0.8991\n",
      "R2 test: 0.8987\n"
     ]
    }
   ],
   "source": [
    "rmse_train = mean_squared_error(y_train,y_train_pred, squared=False)\n",
    "rmse_test = mean_squared_error(y_test,y_test_pred, squared=False)\n",
    "\n",
    "r2_train = r2_score(y_train,y_train_pred)\n",
    "r2_test = r2_score(y_test,y_test_pred)\n",
    "\n",
    "print(\"RMSE train:\",round(rmse_train,3))\n",
    "print(\"RMSE test:\",round(rmse_test,3))\n",
    "print(\"R2 train:\",round(r2_train,4))\n",
    "print(\"R2 test:\",round(r2_test,4))"
   ]
  },
  {
   "cell_type": "code",
   "execution_count": 26,
   "id": "c1344d8d-9817-4134-9b7a-0d73ae1e94ee",
   "metadata": {},
   "outputs": [
    {
     "data": {
      "text/plain": [
       "0.1"
      ]
     },
     "execution_count": 26,
     "metadata": {},
     "output_type": "execute_result"
    }
   ],
   "source": [
    "lasso_alp = pipe2.named_steps['la'].alpha_\n",
    "lasso_alp"
   ]
  },
  {
   "cell_type": "markdown",
   "id": "955173e7-2ccc-4941-a3ca-56d9b450ea28",
   "metadata": {},
   "source": [
    "### RidgeCV"
   ]
  },
  {
   "cell_type": "code",
   "execution_count": 27,
   "id": "0f6f723f-aea1-4fd9-a9dd-e46829cd867f",
   "metadata": {},
   "outputs": [],
   "source": [
    "pipe3 = Pipeline([('ss', StandardScaler()),\n",
    "                 ('ridge', RidgeCV(cv=KFold(8), alphas=[0.01,0.1, 2,5,100]))])"
   ]
  },
  {
   "cell_type": "code",
   "execution_count": 28,
   "id": "aa21d0de-5684-4a54-b6f2-fbfa8b990e95",
   "metadata": {},
   "outputs": [
    {
     "data": {
      "text/html": [
       "<style>#sk-container-id-3 {color: black;background-color: white;}#sk-container-id-3 pre{padding: 0;}#sk-container-id-3 div.sk-toggleable {background-color: white;}#sk-container-id-3 label.sk-toggleable__label {cursor: pointer;display: block;width: 100%;margin-bottom: 0;padding: 0.3em;box-sizing: border-box;text-align: center;}#sk-container-id-3 label.sk-toggleable__label-arrow:before {content: \"▸\";float: left;margin-right: 0.25em;color: #696969;}#sk-container-id-3 label.sk-toggleable__label-arrow:hover:before {color: black;}#sk-container-id-3 div.sk-estimator:hover label.sk-toggleable__label-arrow:before {color: black;}#sk-container-id-3 div.sk-toggleable__content {max-height: 0;max-width: 0;overflow: hidden;text-align: left;background-color: #f0f8ff;}#sk-container-id-3 div.sk-toggleable__content pre {margin: 0.2em;color: black;border-radius: 0.25em;background-color: #f0f8ff;}#sk-container-id-3 input.sk-toggleable__control:checked~div.sk-toggleable__content {max-height: 200px;max-width: 100%;overflow: auto;}#sk-container-id-3 input.sk-toggleable__control:checked~label.sk-toggleable__label-arrow:before {content: \"▾\";}#sk-container-id-3 div.sk-estimator input.sk-toggleable__control:checked~label.sk-toggleable__label {background-color: #d4ebff;}#sk-container-id-3 div.sk-label input.sk-toggleable__control:checked~label.sk-toggleable__label {background-color: #d4ebff;}#sk-container-id-3 input.sk-hidden--visually {border: 0;clip: rect(1px 1px 1px 1px);clip: rect(1px, 1px, 1px, 1px);height: 1px;margin: -1px;overflow: hidden;padding: 0;position: absolute;width: 1px;}#sk-container-id-3 div.sk-estimator {font-family: monospace;background-color: #f0f8ff;border: 1px dotted black;border-radius: 0.25em;box-sizing: border-box;margin-bottom: 0.5em;}#sk-container-id-3 div.sk-estimator:hover {background-color: #d4ebff;}#sk-container-id-3 div.sk-parallel-item::after {content: \"\";width: 100%;border-bottom: 1px solid gray;flex-grow: 1;}#sk-container-id-3 div.sk-label:hover label.sk-toggleable__label {background-color: #d4ebff;}#sk-container-id-3 div.sk-serial::before {content: \"\";position: absolute;border-left: 1px solid gray;box-sizing: border-box;top: 0;bottom: 0;left: 50%;z-index: 0;}#sk-container-id-3 div.sk-serial {display: flex;flex-direction: column;align-items: center;background-color: white;padding-right: 0.2em;padding-left: 0.2em;position: relative;}#sk-container-id-3 div.sk-item {position: relative;z-index: 1;}#sk-container-id-3 div.sk-parallel {display: flex;align-items: stretch;justify-content: center;background-color: white;position: relative;}#sk-container-id-3 div.sk-item::before, #sk-container-id-3 div.sk-parallel-item::before {content: \"\";position: absolute;border-left: 1px solid gray;box-sizing: border-box;top: 0;bottom: 0;left: 50%;z-index: -1;}#sk-container-id-3 div.sk-parallel-item {display: flex;flex-direction: column;z-index: 1;position: relative;background-color: white;}#sk-container-id-3 div.sk-parallel-item:first-child::after {align-self: flex-end;width: 50%;}#sk-container-id-3 div.sk-parallel-item:last-child::after {align-self: flex-start;width: 50%;}#sk-container-id-3 div.sk-parallel-item:only-child::after {width: 0;}#sk-container-id-3 div.sk-dashed-wrapped {border: 1px dashed gray;margin: 0 0.4em 0.5em 0.4em;box-sizing: border-box;padding-bottom: 0.4em;background-color: white;}#sk-container-id-3 div.sk-label label {font-family: monospace;font-weight: bold;display: inline-block;line-height: 1.2em;}#sk-container-id-3 div.sk-label-container {text-align: center;}#sk-container-id-3 div.sk-container {/* jupyter's `normalize.less` sets `[hidden] { display: none; }` but bootstrap.min.css set `[hidden] { display: none !important; }` so we also need the `!important` here to be able to override the default hidden behavior on the sphinx rendered scikit-learn.org. See: https://github.com/scikit-learn/scikit-learn/issues/21755 */display: inline-block !important;position: relative;}#sk-container-id-3 div.sk-text-repr-fallback {display: none;}</style><div id=\"sk-container-id-3\" class=\"sk-top-container\"><div class=\"sk-text-repr-fallback\"><pre>Pipeline(steps=[(&#x27;ss&#x27;, StandardScaler()),\n",
       "                (&#x27;ridge&#x27;,\n",
       "                 RidgeCV(alphas=[0.01, 0.1, 2, 5, 100],\n",
       "                         cv=KFold(n_splits=8, random_state=None, shuffle=False)))])</pre><b>In a Jupyter environment, please rerun this cell to show the HTML representation or trust the notebook. <br />On GitHub, the HTML representation is unable to render, please try loading this page with nbviewer.org.</b></div><div class=\"sk-container\" hidden><div class=\"sk-item sk-dashed-wrapped\"><div class=\"sk-label-container\"><div class=\"sk-label sk-toggleable\"><input class=\"sk-toggleable__control sk-hidden--visually\" id=\"sk-estimator-id-7\" type=\"checkbox\" ><label for=\"sk-estimator-id-7\" class=\"sk-toggleable__label sk-toggleable__label-arrow\">Pipeline</label><div class=\"sk-toggleable__content\"><pre>Pipeline(steps=[(&#x27;ss&#x27;, StandardScaler()),\n",
       "                (&#x27;ridge&#x27;,\n",
       "                 RidgeCV(alphas=[0.01, 0.1, 2, 5, 100],\n",
       "                         cv=KFold(n_splits=8, random_state=None, shuffle=False)))])</pre></div></div></div><div class=\"sk-serial\"><div class=\"sk-item\"><div class=\"sk-estimator sk-toggleable\"><input class=\"sk-toggleable__control sk-hidden--visually\" id=\"sk-estimator-id-8\" type=\"checkbox\" ><label for=\"sk-estimator-id-8\" class=\"sk-toggleable__label sk-toggleable__label-arrow\">StandardScaler</label><div class=\"sk-toggleable__content\"><pre>StandardScaler()</pre></div></div></div><div class=\"sk-item\"><div class=\"sk-estimator sk-toggleable\"><input class=\"sk-toggleable__control sk-hidden--visually\" id=\"sk-estimator-id-9\" type=\"checkbox\" ><label for=\"sk-estimator-id-9\" class=\"sk-toggleable__label sk-toggleable__label-arrow\">RidgeCV</label><div class=\"sk-toggleable__content\"><pre>RidgeCV(alphas=[0.01, 0.1, 2, 5, 100],\n",
       "        cv=KFold(n_splits=8, random_state=None, shuffle=False))</pre></div></div></div></div></div></div></div>"
      ],
      "text/plain": [
       "Pipeline(steps=[('ss', StandardScaler()),\n",
       "                ('ridge',\n",
       "                 RidgeCV(alphas=[0.01, 0.1, 2, 5, 100],\n",
       "                         cv=KFold(n_splits=8, random_state=None, shuffle=False)))])"
      ]
     },
     "execution_count": 28,
     "metadata": {},
     "output_type": "execute_result"
    }
   ],
   "source": [
    "pipe3.fit(X_train, y_train)"
   ]
  },
  {
   "cell_type": "code",
   "execution_count": 29,
   "id": "076dc619-e33f-4cdb-9707-483dec9f9984",
   "metadata": {},
   "outputs": [],
   "source": [
    "y_train_predr = pipe3.predict(X_train)\n",
    "y_test_predr = pipe3.predict(X_test)"
   ]
  },
  {
   "cell_type": "code",
   "execution_count": 30,
   "id": "190d2c97-386f-42bb-834c-2931d530c70e",
   "metadata": {},
   "outputs": [
    {
     "name": "stdout",
     "output_type": "stream",
     "text": [
      "RMSE train: 38607.481\n",
      "RMSE test: 38570.206\n",
      "R2 train: 0.8991\n",
      "R2 test: 0.8987\n"
     ]
    }
   ],
   "source": [
    "rmse_train = mean_squared_error(y_train,y_train_predr, squared=False)\n",
    "rmse_test = mean_squared_error(y_test,y_test_predr, squared=False)\n",
    "\n",
    "r2_train = r2_score(y_train,y_train_predr)\n",
    "r2_test = r2_score(y_test,y_test_predr)\n",
    "\n",
    "print(\"RMSE train:\",round(rmse_train,3))\n",
    "print(\"RMSE test:\",round(rmse_test,3))\n",
    "print(\"R2 train:\",round(r2_train,4))\n",
    "print(\"R2 test:\",round(r2_test,4))"
   ]
  },
  {
   "cell_type": "code",
   "execution_count": 31,
   "id": "e216bb35-78dc-4b18-8e96-e4707a87073c",
   "metadata": {},
   "outputs": [
    {
     "data": {
      "text/plain": [
       "5.0"
      ]
     },
     "execution_count": 31,
     "metadata": {},
     "output_type": "execute_result"
    }
   ],
   "source": [
    "ridge_alp = pipe3.named_steps['ridge'].alpha_\n",
    "ridge_alp"
   ]
  },
  {
   "cell_type": "markdown",
   "id": "9b73dbc3-f37d-4463-80b6-10a895ea3675",
   "metadata": {},
   "source": [
    "## Feature selection and Modeling with Feature B"
   ]
  },
  {
   "cell_type": "code",
   "execution_count": 68,
   "id": "93a9c908-4c24-4323-b7fe-8e8a1929e31b",
   "metadata": {},
   "outputs": [],
   "source": [
    "features = ['tranc_yearmonth',\n",
    " 'flat_type',\n",
    " 'floor_area_sqm',\n",
    " 'flat_model',\n",
    " 'storey',\n",
    " 'hdb_age',\n",
    " # 'max_floor_lvl',\n",
    " 'commercial',\n",
    " 'market_hawker',\n",
    " 'planning_area',\n",
    " 'mall_nearest_distance',\n",
    " 'mrt_nearest_distance',\n",
    " 'pri_sch_name',\n",
    " 'sec_sch_name']\n",
    "\n",
    "X = df[features]\n",
    "y = df['resale_price']"
   ]
  },
  {
   "cell_type": "code",
   "execution_count": 69,
   "id": "7535efc4-76bd-4eec-aaf7-480f761b1e04",
   "metadata": {},
   "outputs": [
    {
     "name": "stdout",
     "output_type": "stream",
     "text": [
      "(100569, 13)\n",
      "(33523, 13)\n",
      "(100569,)\n",
      "(33523,)\n"
     ]
    }
   ],
   "source": [
    "X_train_B, X_test_B, y_train_B, y_test_B = train_test_split(X,y, test_size=0.25, random_state=30)\n",
    "\n",
    "print(X_train_B.shape)\n",
    "print(X_test_B.shape)\n",
    "print(y_train_B.shape)\n",
    "print(y_test_B.shape)"
   ]
  },
  {
   "cell_type": "code",
   "execution_count": 70,
   "id": "f183cda7-d7a3-4022-b1a3-f91b719ecd74",
   "metadata": {},
   "outputs": [],
   "source": [
    "X_train_B = pd.get_dummies(data= X_train_B, columns=['flat_model'], prefix='model')\n",
    "X_train_B = pd.get_dummies(data= X_train_B, columns=['flat_type'], prefix='type')\n",
    "X_train_B = pd.get_dummies(data=X_train_B, columns=['pri_sch_name'], prefix='pri')\n",
    "X_train_B = pd.get_dummies(data=X_train_B, columns=['sec_sch_name'], prefix='sec')\n",
    "X_train_B = pd.get_dummies(data=X_train_B, columns=['planning_area'], prefix='pA')\n",
    "X_train_B = pd.get_dummies(data=X_train_B, columns=['tranc_yearmonth'], prefix='ym')\n",
    "\n",
    "\n",
    "X_test_B = pd.get_dummies(data= X_test_B, columns=['flat_model'], prefix='model')\n",
    "X_test_B = pd.get_dummies(data= X_test_B, columns=['flat_type'], prefix='type')\n",
    "X_test_B = pd.get_dummies(data=X_test_B, columns=['pri_sch_name'], prefix='pri')\n",
    "X_test_B = pd.get_dummies(data=X_test_B, columns=['sec_sch_name'], prefix='sec')\n",
    "X_test_B = pd.get_dummies(data=X_test_B, columns=['planning_area'], prefix='pA')\n",
    "X_test_B = pd.get_dummies(data=X_test_B, columns=['tranc_yearmonth'], prefix='ym')\n"
   ]
  },
  {
   "cell_type": "code",
   "execution_count": 71,
   "id": "6ac28412-7368-4f6a-8fcf-b732c124481d",
   "metadata": {},
   "outputs": [
    {
     "name": "stdout",
     "output_type": "stream",
     "text": [
      "(100569, 481)\n",
      "(33523, 479)\n",
      "Index(['floor_area_sqm', 'storey', 'hdb_age', 'commercial', 'market_hawker',\n",
      "       'mall_nearest_distance', 'mrt_nearest_distance', 'model_2-room',\n",
      "       'model_Adjoined flat', 'model_Apartment',\n",
      "       ...\n",
      "       'ym_2020-07', 'ym_2020-08', 'ym_2020-09', 'ym_2020-10', 'ym_2020-11',\n",
      "       'ym_2020-12', 'ym_2021-01', 'ym_2021-02', 'ym_2021-03', 'ym_2021-04'],\n",
      "      dtype='object', length=481)\n",
      "Index(['floor_area_sqm', 'storey', 'hdb_age', 'commercial', 'market_hawker',\n",
      "       'mall_nearest_distance', 'mrt_nearest_distance', 'model_2-room',\n",
      "       'model_Adjoined flat', 'model_Apartment',\n",
      "       ...\n",
      "       'ym_2020-07', 'ym_2020-08', 'ym_2020-09', 'ym_2020-10', 'ym_2020-11',\n",
      "       'ym_2020-12', 'ym_2021-01', 'ym_2021-02', 'ym_2021-03', 'ym_2021-04'],\n",
      "      dtype='object', length=479)\n"
     ]
    }
   ],
   "source": [
    "to_be_added = [x for x in X_test_B.columns if x not in X_train_B.columns]\n",
    "\n",
    "for i in to_be_added:\n",
    "    X_train_B[i]=0\n",
    "\n",
    "print(X_train_B.shape)\n",
    "print(X_test_B.shape)\n",
    "print(X_train_B.columns)\n",
    "print(X_test_B.columns)"
   ]
  },
  {
   "cell_type": "code",
   "execution_count": 72,
   "id": "54eb48f9-b15f-4f8a-a871-265b7f2ec639",
   "metadata": {},
   "outputs": [
    {
     "name": "stdout",
     "output_type": "stream",
     "text": [
      "(100569, 481)\n",
      "(33523, 481)\n",
      "Index(['floor_area_sqm', 'storey', 'hdb_age', 'commercial', 'market_hawker',\n",
      "       'mall_nearest_distance', 'mrt_nearest_distance', 'model_2-room',\n",
      "       'model_Adjoined flat', 'model_Apartment',\n",
      "       ...\n",
      "       'ym_2020-07', 'ym_2020-08', 'ym_2020-09', 'ym_2020-10', 'ym_2020-11',\n",
      "       'ym_2020-12', 'ym_2021-01', 'ym_2021-02', 'ym_2021-03', 'ym_2021-04'],\n",
      "      dtype='object', length=481)\n",
      "Index(['floor_area_sqm', 'storey', 'hdb_age', 'commercial', 'market_hawker',\n",
      "       'mall_nearest_distance', 'mrt_nearest_distance', 'model_2-room',\n",
      "       'model_Adjoined flat', 'model_Apartment',\n",
      "       ...\n",
      "       'ym_2020-09', 'ym_2020-10', 'ym_2020-11', 'ym_2020-12', 'ym_2021-01',\n",
      "       'ym_2021-02', 'ym_2021-03', 'ym_2021-04',\n",
      "       'model_Premium Apartment Loft', 'model_Type S1'],\n",
      "      dtype='object', length=481)\n"
     ]
    }
   ],
   "source": [
    "to_be_added = [x for x in X_train_B.columns if x not in X_test_B.columns]\n",
    "\n",
    "for i in to_be_added:\n",
    "    X_test_B[i]=0\n",
    "\n",
    "print(X_train_B.shape)\n",
    "print(X_test_B.shape)\n",
    "print(X_train_B.columns)\n",
    "print(X_test_B.columns)"
   ]
  },
  {
   "cell_type": "code",
   "execution_count": 73,
   "id": "81dc34b6-6c3e-405a-8a26-fecee76bd856",
   "metadata": {},
   "outputs": [
    {
     "name": "stdout",
     "output_type": "stream",
     "text": [
      "Index(['floor_area_sqm', 'storey', 'hdb_age', 'commercial', 'market_hawker',\n",
      "       'mall_nearest_distance', 'mrt_nearest_distance', 'model_2-room',\n",
      "       'model_Adjoined flat', 'model_Apartment',\n",
      "       ...\n",
      "       'ym_2020-07', 'ym_2020-08', 'ym_2020-09', 'ym_2020-10', 'ym_2020-11',\n",
      "       'ym_2020-12', 'ym_2021-01', 'ym_2021-02', 'ym_2021-03', 'ym_2021-04'],\n",
      "      dtype='object', length=481)\n"
     ]
    }
   ],
   "source": [
    "# Define the desired order of columns\n",
    "column_order = X_train_B.columns.tolist()  # Use the column names from X_train_B\n",
    "\n",
    "# Reorder the columns in X_test_B\n",
    "X_test_B = X_test_B[column_order]\n",
    "\n",
    "print(X_test_B.columns)"
   ]
  },
  {
   "cell_type": "markdown",
   "id": "5b302f0e-71f4-4b90-ae5b-6aa0567d2bad",
   "metadata": {},
   "source": [
    "## Modeling with Feature B and Evaluation"
   ]
  },
  {
   "cell_type": "markdown",
   "id": "34ee0bd7-61fa-47cd-93b1-653d1a4aaef8",
   "metadata": {},
   "source": [
    "**Linear Regression**"
   ]
  },
  {
   "cell_type": "code",
   "execution_count": 38,
   "id": "6e95615c-3c03-42d1-8728-5480227d1e1f",
   "metadata": {},
   "outputs": [
    {
     "data": {
      "text/html": [
       "<style>#sk-container-id-4 {color: black;background-color: white;}#sk-container-id-4 pre{padding: 0;}#sk-container-id-4 div.sk-toggleable {background-color: white;}#sk-container-id-4 label.sk-toggleable__label {cursor: pointer;display: block;width: 100%;margin-bottom: 0;padding: 0.3em;box-sizing: border-box;text-align: center;}#sk-container-id-4 label.sk-toggleable__label-arrow:before {content: \"▸\";float: left;margin-right: 0.25em;color: #696969;}#sk-container-id-4 label.sk-toggleable__label-arrow:hover:before {color: black;}#sk-container-id-4 div.sk-estimator:hover label.sk-toggleable__label-arrow:before {color: black;}#sk-container-id-4 div.sk-toggleable__content {max-height: 0;max-width: 0;overflow: hidden;text-align: left;background-color: #f0f8ff;}#sk-container-id-4 div.sk-toggleable__content pre {margin: 0.2em;color: black;border-radius: 0.25em;background-color: #f0f8ff;}#sk-container-id-4 input.sk-toggleable__control:checked~div.sk-toggleable__content {max-height: 200px;max-width: 100%;overflow: auto;}#sk-container-id-4 input.sk-toggleable__control:checked~label.sk-toggleable__label-arrow:before {content: \"▾\";}#sk-container-id-4 div.sk-estimator input.sk-toggleable__control:checked~label.sk-toggleable__label {background-color: #d4ebff;}#sk-container-id-4 div.sk-label input.sk-toggleable__control:checked~label.sk-toggleable__label {background-color: #d4ebff;}#sk-container-id-4 input.sk-hidden--visually {border: 0;clip: rect(1px 1px 1px 1px);clip: rect(1px, 1px, 1px, 1px);height: 1px;margin: -1px;overflow: hidden;padding: 0;position: absolute;width: 1px;}#sk-container-id-4 div.sk-estimator {font-family: monospace;background-color: #f0f8ff;border: 1px dotted black;border-radius: 0.25em;box-sizing: border-box;margin-bottom: 0.5em;}#sk-container-id-4 div.sk-estimator:hover {background-color: #d4ebff;}#sk-container-id-4 div.sk-parallel-item::after {content: \"\";width: 100%;border-bottom: 1px solid gray;flex-grow: 1;}#sk-container-id-4 div.sk-label:hover label.sk-toggleable__label {background-color: #d4ebff;}#sk-container-id-4 div.sk-serial::before {content: \"\";position: absolute;border-left: 1px solid gray;box-sizing: border-box;top: 0;bottom: 0;left: 50%;z-index: 0;}#sk-container-id-4 div.sk-serial {display: flex;flex-direction: column;align-items: center;background-color: white;padding-right: 0.2em;padding-left: 0.2em;position: relative;}#sk-container-id-4 div.sk-item {position: relative;z-index: 1;}#sk-container-id-4 div.sk-parallel {display: flex;align-items: stretch;justify-content: center;background-color: white;position: relative;}#sk-container-id-4 div.sk-item::before, #sk-container-id-4 div.sk-parallel-item::before {content: \"\";position: absolute;border-left: 1px solid gray;box-sizing: border-box;top: 0;bottom: 0;left: 50%;z-index: -1;}#sk-container-id-4 div.sk-parallel-item {display: flex;flex-direction: column;z-index: 1;position: relative;background-color: white;}#sk-container-id-4 div.sk-parallel-item:first-child::after {align-self: flex-end;width: 50%;}#sk-container-id-4 div.sk-parallel-item:last-child::after {align-self: flex-start;width: 50%;}#sk-container-id-4 div.sk-parallel-item:only-child::after {width: 0;}#sk-container-id-4 div.sk-dashed-wrapped {border: 1px dashed gray;margin: 0 0.4em 0.5em 0.4em;box-sizing: border-box;padding-bottom: 0.4em;background-color: white;}#sk-container-id-4 div.sk-label label {font-family: monospace;font-weight: bold;display: inline-block;line-height: 1.2em;}#sk-container-id-4 div.sk-label-container {text-align: center;}#sk-container-id-4 div.sk-container {/* jupyter's `normalize.less` sets `[hidden] { display: none; }` but bootstrap.min.css set `[hidden] { display: none !important; }` so we also need the `!important` here to be able to override the default hidden behavior on the sphinx rendered scikit-learn.org. See: https://github.com/scikit-learn/scikit-learn/issues/21755 */display: inline-block !important;position: relative;}#sk-container-id-4 div.sk-text-repr-fallback {display: none;}</style><div id=\"sk-container-id-4\" class=\"sk-top-container\"><div class=\"sk-text-repr-fallback\"><pre>Pipeline(steps=[(&#x27;ss&#x27;, StandardScaler()), (&#x27;lr&#x27;, LinearRegression())])</pre><b>In a Jupyter environment, please rerun this cell to show the HTML representation or trust the notebook. <br />On GitHub, the HTML representation is unable to render, please try loading this page with nbviewer.org.</b></div><div class=\"sk-container\" hidden><div class=\"sk-item sk-dashed-wrapped\"><div class=\"sk-label-container\"><div class=\"sk-label sk-toggleable\"><input class=\"sk-toggleable__control sk-hidden--visually\" id=\"sk-estimator-id-10\" type=\"checkbox\" ><label for=\"sk-estimator-id-10\" class=\"sk-toggleable__label sk-toggleable__label-arrow\">Pipeline</label><div class=\"sk-toggleable__content\"><pre>Pipeline(steps=[(&#x27;ss&#x27;, StandardScaler()), (&#x27;lr&#x27;, LinearRegression())])</pre></div></div></div><div class=\"sk-serial\"><div class=\"sk-item\"><div class=\"sk-estimator sk-toggleable\"><input class=\"sk-toggleable__control sk-hidden--visually\" id=\"sk-estimator-id-11\" type=\"checkbox\" ><label for=\"sk-estimator-id-11\" class=\"sk-toggleable__label sk-toggleable__label-arrow\">StandardScaler</label><div class=\"sk-toggleable__content\"><pre>StandardScaler()</pre></div></div></div><div class=\"sk-item\"><div class=\"sk-estimator sk-toggleable\"><input class=\"sk-toggleable__control sk-hidden--visually\" id=\"sk-estimator-id-12\" type=\"checkbox\" ><label for=\"sk-estimator-id-12\" class=\"sk-toggleable__label sk-toggleable__label-arrow\">LinearRegression</label><div class=\"sk-toggleable__content\"><pre>LinearRegression()</pre></div></div></div></div></div></div></div>"
      ],
      "text/plain": [
       "Pipeline(steps=[('ss', StandardScaler()), ('lr', LinearRegression())])"
      ]
     },
     "execution_count": 38,
     "metadata": {},
     "output_type": "execute_result"
    }
   ],
   "source": [
    "pipe.fit(X_train_B, y_train_B)"
   ]
  },
  {
   "cell_type": "code",
   "execution_count": 39,
   "id": "ac22afca-88c4-4936-a4d1-b7cddf5b031d",
   "metadata": {},
   "outputs": [],
   "source": [
    "y_trainB_preds = pipe.predict(X_train_B)\n",
    "y_testB_preds = pipe.predict(X_test_B)"
   ]
  },
  {
   "cell_type": "code",
   "execution_count": 40,
   "id": "fca1f3a0-3a11-4679-a797-26851e5d52f4",
   "metadata": {},
   "outputs": [
    {
     "name": "stdout",
     "output_type": "stream",
     "text": [
      "RMSE train: 36650.501\n",
      "RMSE test: 36476.541\n",
      "R2 train: 0.9091\n",
      "R2 test: 0.9094\n"
     ]
    }
   ],
   "source": [
    "rmse_trainB = mean_squared_error(y_train_B,y_trainB_preds, squared=False)\n",
    "rmse_testB = mean_squared_error(y_test_B,y_testB_preds, squared=False)\n",
    "\n",
    "r2_trainB = r2_score(y_train,y_trainB_preds)\n",
    "r2_testB = r2_score(y_test,y_testB_preds)\n",
    "\n",
    "print(\"RMSE train:\",round(rmse_trainB,3))\n",
    "print(\"RMSE test:\",round(rmse_testB,3))\n",
    "print(\"R2 train:\",round(r2_trainB,4))\n",
    "print(\"R2 test:\",round(r2_testB,4))"
   ]
  },
  {
   "cell_type": "markdown",
   "id": "3ad0a875-eca1-4520-9d77-0d4f35dd8a97",
   "metadata": {},
   "source": [
    "### LassoCV"
   ]
  },
  {
   "cell_type": "code",
   "execution_count": 41,
   "id": "05bc5d28-a696-4d0b-b58e-8e4e76af94c1",
   "metadata": {
    "scrolled": true,
    "tags": []
   },
   "outputs": [
    {
     "name": "stderr",
     "output_type": "stream",
     "text": [
      "/Users/liyenauseff/anaconda3/lib/python3.10/site-packages/sklearn/linear_model/_coordinate_descent.py:617: ConvergenceWarning: Objective did not converge. You might want to increase the number of iterations. Duality gap: 3385614206462.0312, tolerance: 129672377304.79076\n",
      "  model = cd_fast.enet_coordinate_descent_gram(\n",
      "/Users/liyenauseff/anaconda3/lib/python3.10/site-packages/sklearn/linear_model/_coordinate_descent.py:617: ConvergenceWarning: Objective did not converge. You might want to increase the number of iterations. Duality gap: 3329590919219.3906, tolerance: 129672377304.79076\n",
      "  model = cd_fast.enet_coordinate_descent_gram(\n",
      "/Users/liyenauseff/anaconda3/lib/python3.10/site-packages/sklearn/linear_model/_coordinate_descent.py:617: ConvergenceWarning: Objective did not converge. You might want to increase the number of iterations. Duality gap: 4593239396727.984, tolerance: 130181585682.88318\n",
      "  model = cd_fast.enet_coordinate_descent_gram(\n",
      "/Users/liyenauseff/anaconda3/lib/python3.10/site-packages/sklearn/linear_model/_coordinate_descent.py:617: ConvergenceWarning: Objective did not converge. You might want to increase the number of iterations. Duality gap: 5609975524760.078, tolerance: 130181585682.88318\n",
      "  model = cd_fast.enet_coordinate_descent_gram(\n",
      "/Users/liyenauseff/anaconda3/lib/python3.10/site-packages/sklearn/linear_model/_coordinate_descent.py:617: ConvergenceWarning: Objective did not converge. You might want to increase the number of iterations. Duality gap: 4344710802022.7812, tolerance: 130033744907.94861\n",
      "  model = cd_fast.enet_coordinate_descent_gram(\n",
      "/Users/liyenauseff/anaconda3/lib/python3.10/site-packages/sklearn/linear_model/_coordinate_descent.py:617: ConvergenceWarning: Objective did not converge. You might want to increase the number of iterations. Duality gap: 4384599915110.203, tolerance: 130033744907.94861\n",
      "  model = cd_fast.enet_coordinate_descent_gram(\n",
      "/Users/liyenauseff/anaconda3/lib/python3.10/site-packages/sklearn/linear_model/_coordinate_descent.py:617: ConvergenceWarning: Objective did not converge. You might want to increase the number of iterations. Duality gap: 6902483639104.125, tolerance: 130058040751.11967\n",
      "  model = cd_fast.enet_coordinate_descent_gram(\n",
      "/Users/liyenauseff/anaconda3/lib/python3.10/site-packages/sklearn/linear_model/_coordinate_descent.py:617: ConvergenceWarning: Objective did not converge. You might want to increase the number of iterations. Duality gap: 6715732701425.5625, tolerance: 130058040751.11967\n",
      "  model = cd_fast.enet_coordinate_descent_gram(\n",
      "/Users/liyenauseff/anaconda3/lib/python3.10/site-packages/sklearn/linear_model/_coordinate_descent.py:617: ConvergenceWarning: Objective did not converge. You might want to increase the number of iterations. Duality gap: 2274972649539.9062, tolerance: 130352677492.31831\n",
      "  model = cd_fast.enet_coordinate_descent_gram(\n",
      "/Users/liyenauseff/anaconda3/lib/python3.10/site-packages/sklearn/linear_model/_coordinate_descent.py:617: ConvergenceWarning: Objective did not converge. You might want to increase the number of iterations. Duality gap: 3183029545974.703, tolerance: 130352677492.31831\n",
      "  model = cd_fast.enet_coordinate_descent_gram(\n",
      "/Users/liyenauseff/anaconda3/lib/python3.10/site-packages/sklearn/linear_model/_coordinate_descent.py:617: ConvergenceWarning: Objective did not converge. You might want to increase the number of iterations. Duality gap: 1523446712620.5312, tolerance: 129499802023.64046\n",
      "  model = cd_fast.enet_coordinate_descent_gram(\n",
      "/Users/liyenauseff/anaconda3/lib/python3.10/site-packages/sklearn/linear_model/_coordinate_descent.py:617: ConvergenceWarning: Objective did not converge. You might want to increase the number of iterations. Duality gap: 1556706039009.0938, tolerance: 129499802023.64046\n",
      "  model = cd_fast.enet_coordinate_descent_gram(\n",
      "/Users/liyenauseff/anaconda3/lib/python3.10/site-packages/sklearn/linear_model/_coordinate_descent.py:617: ConvergenceWarning: Objective did not converge. You might want to increase the number of iterations. Duality gap: 2065921569553.3438, tolerance: 130117183863.06723\n",
      "  model = cd_fast.enet_coordinate_descent_gram(\n",
      "/Users/liyenauseff/anaconda3/lib/python3.10/site-packages/sklearn/linear_model/_coordinate_descent.py:617: ConvergenceWarning: Objective did not converge. You might want to increase the number of iterations. Duality gap: 3663665683989.828, tolerance: 130117183863.06723\n",
      "  model = cd_fast.enet_coordinate_descent_gram(\n",
      "/Users/liyenauseff/anaconda3/lib/python3.10/site-packages/sklearn/linear_model/_coordinate_descent.py:617: ConvergenceWarning: Objective did not converge. You might want to increase the number of iterations. Duality gap: 1954780088407.0469, tolerance: 130339544499.85901\n",
      "  model = cd_fast.enet_coordinate_descent_gram(\n",
      "/Users/liyenauseff/anaconda3/lib/python3.10/site-packages/sklearn/linear_model/_coordinate_descent.py:617: ConvergenceWarning: Objective did not converge. You might want to increase the number of iterations. Duality gap: 4209696061073.8594, tolerance: 130339544499.85901\n",
      "  model = cd_fast.enet_coordinate_descent_gram(\n"
     ]
    },
    {
     "name": "stdout",
     "output_type": "stream",
     "text": [
      "CPU times: user 2h 5min 59s, sys: 1min 17s, total: 2h 7min 17s\n",
      "Wall time: 13min 14s\n"
     ]
    },
    {
     "name": "stderr",
     "output_type": "stream",
     "text": [
      "/Users/liyenauseff/anaconda3/lib/python3.10/site-packages/sklearn/linear_model/_coordinate_descent.py:631: ConvergenceWarning: Objective did not converge. You might want to increase the number of iterations, check the scale of the features or consider increasing regularisation. Duality gap: 4.328e+11, tolerance: 1.486e+11\n",
      "  model = cd_fast.enet_coordinate_descent(\n"
     ]
    },
    {
     "data": {
      "text/html": [
       "<style>#sk-container-id-5 {color: black;background-color: white;}#sk-container-id-5 pre{padding: 0;}#sk-container-id-5 div.sk-toggleable {background-color: white;}#sk-container-id-5 label.sk-toggleable__label {cursor: pointer;display: block;width: 100%;margin-bottom: 0;padding: 0.3em;box-sizing: border-box;text-align: center;}#sk-container-id-5 label.sk-toggleable__label-arrow:before {content: \"▸\";float: left;margin-right: 0.25em;color: #696969;}#sk-container-id-5 label.sk-toggleable__label-arrow:hover:before {color: black;}#sk-container-id-5 div.sk-estimator:hover label.sk-toggleable__label-arrow:before {color: black;}#sk-container-id-5 div.sk-toggleable__content {max-height: 0;max-width: 0;overflow: hidden;text-align: left;background-color: #f0f8ff;}#sk-container-id-5 div.sk-toggleable__content pre {margin: 0.2em;color: black;border-radius: 0.25em;background-color: #f0f8ff;}#sk-container-id-5 input.sk-toggleable__control:checked~div.sk-toggleable__content {max-height: 200px;max-width: 100%;overflow: auto;}#sk-container-id-5 input.sk-toggleable__control:checked~label.sk-toggleable__label-arrow:before {content: \"▾\";}#sk-container-id-5 div.sk-estimator input.sk-toggleable__control:checked~label.sk-toggleable__label {background-color: #d4ebff;}#sk-container-id-5 div.sk-label input.sk-toggleable__control:checked~label.sk-toggleable__label {background-color: #d4ebff;}#sk-container-id-5 input.sk-hidden--visually {border: 0;clip: rect(1px 1px 1px 1px);clip: rect(1px, 1px, 1px, 1px);height: 1px;margin: -1px;overflow: hidden;padding: 0;position: absolute;width: 1px;}#sk-container-id-5 div.sk-estimator {font-family: monospace;background-color: #f0f8ff;border: 1px dotted black;border-radius: 0.25em;box-sizing: border-box;margin-bottom: 0.5em;}#sk-container-id-5 div.sk-estimator:hover {background-color: #d4ebff;}#sk-container-id-5 div.sk-parallel-item::after {content: \"\";width: 100%;border-bottom: 1px solid gray;flex-grow: 1;}#sk-container-id-5 div.sk-label:hover label.sk-toggleable__label {background-color: #d4ebff;}#sk-container-id-5 div.sk-serial::before {content: \"\";position: absolute;border-left: 1px solid gray;box-sizing: border-box;top: 0;bottom: 0;left: 50%;z-index: 0;}#sk-container-id-5 div.sk-serial {display: flex;flex-direction: column;align-items: center;background-color: white;padding-right: 0.2em;padding-left: 0.2em;position: relative;}#sk-container-id-5 div.sk-item {position: relative;z-index: 1;}#sk-container-id-5 div.sk-parallel {display: flex;align-items: stretch;justify-content: center;background-color: white;position: relative;}#sk-container-id-5 div.sk-item::before, #sk-container-id-5 div.sk-parallel-item::before {content: \"\";position: absolute;border-left: 1px solid gray;box-sizing: border-box;top: 0;bottom: 0;left: 50%;z-index: -1;}#sk-container-id-5 div.sk-parallel-item {display: flex;flex-direction: column;z-index: 1;position: relative;background-color: white;}#sk-container-id-5 div.sk-parallel-item:first-child::after {align-self: flex-end;width: 50%;}#sk-container-id-5 div.sk-parallel-item:last-child::after {align-self: flex-start;width: 50%;}#sk-container-id-5 div.sk-parallel-item:only-child::after {width: 0;}#sk-container-id-5 div.sk-dashed-wrapped {border: 1px dashed gray;margin: 0 0.4em 0.5em 0.4em;box-sizing: border-box;padding-bottom: 0.4em;background-color: white;}#sk-container-id-5 div.sk-label label {font-family: monospace;font-weight: bold;display: inline-block;line-height: 1.2em;}#sk-container-id-5 div.sk-label-container {text-align: center;}#sk-container-id-5 div.sk-container {/* jupyter's `normalize.less` sets `[hidden] { display: none; }` but bootstrap.min.css set `[hidden] { display: none !important; }` so we also need the `!important` here to be able to override the default hidden behavior on the sphinx rendered scikit-learn.org. See: https://github.com/scikit-learn/scikit-learn/issues/21755 */display: inline-block !important;position: relative;}#sk-container-id-5 div.sk-text-repr-fallback {display: none;}</style><div id=\"sk-container-id-5\" class=\"sk-top-container\"><div class=\"sk-text-repr-fallback\"><pre>Pipeline(steps=[(&#x27;ss&#x27;, StandardScaler()),\n",
       "                (&#x27;la&#x27;,\n",
       "                 LassoCV(alphas=[0.01, 0.1, 2, 5, 100],\n",
       "                         cv=KFold(n_splits=8, random_state=None, shuffle=False),\n",
       "                         max_iter=10000))])</pre><b>In a Jupyter environment, please rerun this cell to show the HTML representation or trust the notebook. <br />On GitHub, the HTML representation is unable to render, please try loading this page with nbviewer.org.</b></div><div class=\"sk-container\" hidden><div class=\"sk-item sk-dashed-wrapped\"><div class=\"sk-label-container\"><div class=\"sk-label sk-toggleable\"><input class=\"sk-toggleable__control sk-hidden--visually\" id=\"sk-estimator-id-13\" type=\"checkbox\" ><label for=\"sk-estimator-id-13\" class=\"sk-toggleable__label sk-toggleable__label-arrow\">Pipeline</label><div class=\"sk-toggleable__content\"><pre>Pipeline(steps=[(&#x27;ss&#x27;, StandardScaler()),\n",
       "                (&#x27;la&#x27;,\n",
       "                 LassoCV(alphas=[0.01, 0.1, 2, 5, 100],\n",
       "                         cv=KFold(n_splits=8, random_state=None, shuffle=False),\n",
       "                         max_iter=10000))])</pre></div></div></div><div class=\"sk-serial\"><div class=\"sk-item\"><div class=\"sk-estimator sk-toggleable\"><input class=\"sk-toggleable__control sk-hidden--visually\" id=\"sk-estimator-id-14\" type=\"checkbox\" ><label for=\"sk-estimator-id-14\" class=\"sk-toggleable__label sk-toggleable__label-arrow\">StandardScaler</label><div class=\"sk-toggleable__content\"><pre>StandardScaler()</pre></div></div></div><div class=\"sk-item\"><div class=\"sk-estimator sk-toggleable\"><input class=\"sk-toggleable__control sk-hidden--visually\" id=\"sk-estimator-id-15\" type=\"checkbox\" ><label for=\"sk-estimator-id-15\" class=\"sk-toggleable__label sk-toggleable__label-arrow\">LassoCV</label><div class=\"sk-toggleable__content\"><pre>LassoCV(alphas=[0.01, 0.1, 2, 5, 100],\n",
       "        cv=KFold(n_splits=8, random_state=None, shuffle=False), max_iter=10000)</pre></div></div></div></div></div></div></div>"
      ],
      "text/plain": [
       "Pipeline(steps=[('ss', StandardScaler()),\n",
       "                ('la',\n",
       "                 LassoCV(alphas=[0.01, 0.1, 2, 5, 100],\n",
       "                         cv=KFold(n_splits=8, random_state=None, shuffle=False),\n",
       "                         max_iter=10000))])"
      ]
     },
     "execution_count": 41,
     "metadata": {},
     "output_type": "execute_result"
    }
   ],
   "source": [
    "%%time\n",
    "pipe2.fit(X_train_B, y_train_B)"
   ]
  },
  {
   "cell_type": "code",
   "execution_count": 42,
   "id": "ba7fe49d-ee50-4444-ae7a-5dc3345bba7e",
   "metadata": {},
   "outputs": [],
   "source": [
    "y_trainB_pred = pipe2.predict(X_train_B)\n",
    "y_testB_pred = pipe2.predict(X_test_B)"
   ]
  },
  {
   "cell_type": "code",
   "execution_count": 43,
   "id": "a6c6a7f8-181c-4153-acbf-fb60c50046c6",
   "metadata": {},
   "outputs": [
    {
     "name": "stdout",
     "output_type": "stream",
     "text": [
      "RMSE train: 36641.732\n",
      "RMSE test: 36465.649\n",
      "R2 train: 0.9091\n",
      "R2 test: 0.9095\n"
     ]
    }
   ],
   "source": [
    "rmse_trainB = mean_squared_error(y_train_B,y_trainB_pred, squared=False)\n",
    "rmse_testB = mean_squared_error(y_test_B,y_testB_pred, squared=False)\n",
    "\n",
    "r2_trainB = r2_score(y_train,y_trainB_pred)\n",
    "r2_testB = r2_score(y_test,y_testB_pred)\n",
    "\n",
    "print(\"RMSE train:\",round(rmse_trainB,3))\n",
    "print(\"RMSE test:\",round(rmse_testB,3))\n",
    "print(\"R2 train:\",round(r2_trainB,4))\n",
    "print(\"R2 test:\",round(r2_testB,4))"
   ]
  },
  {
   "cell_type": "code",
   "execution_count": 44,
   "id": "3ed6858a-5d62-4f10-9dab-9dddd3cb4686",
   "metadata": {},
   "outputs": [
    {
     "data": {
      "text/plain": [
       "2.0"
      ]
     },
     "execution_count": 44,
     "metadata": {},
     "output_type": "execute_result"
    }
   ],
   "source": [
    "lasso_alp = pipe2.named_steps['la'].alpha_\n",
    "lasso_alp"
   ]
  },
  {
   "cell_type": "markdown",
   "id": "86053bfb-2393-4c38-9d23-6458252ec7a0",
   "metadata": {},
   "source": [
    "### RidgeCV"
   ]
  },
  {
   "cell_type": "code",
   "execution_count": 75,
   "id": "0a34580c-15eb-4042-8b15-bd4e4bcc35be",
   "metadata": {},
   "outputs": [
    {
     "data": {
      "text/html": [
       "<style>#sk-container-id-8 {color: black;background-color: white;}#sk-container-id-8 pre{padding: 0;}#sk-container-id-8 div.sk-toggleable {background-color: white;}#sk-container-id-8 label.sk-toggleable__label {cursor: pointer;display: block;width: 100%;margin-bottom: 0;padding: 0.3em;box-sizing: border-box;text-align: center;}#sk-container-id-8 label.sk-toggleable__label-arrow:before {content: \"▸\";float: left;margin-right: 0.25em;color: #696969;}#sk-container-id-8 label.sk-toggleable__label-arrow:hover:before {color: black;}#sk-container-id-8 div.sk-estimator:hover label.sk-toggleable__label-arrow:before {color: black;}#sk-container-id-8 div.sk-toggleable__content {max-height: 0;max-width: 0;overflow: hidden;text-align: left;background-color: #f0f8ff;}#sk-container-id-8 div.sk-toggleable__content pre {margin: 0.2em;color: black;border-radius: 0.25em;background-color: #f0f8ff;}#sk-container-id-8 input.sk-toggleable__control:checked~div.sk-toggleable__content {max-height: 200px;max-width: 100%;overflow: auto;}#sk-container-id-8 input.sk-toggleable__control:checked~label.sk-toggleable__label-arrow:before {content: \"▾\";}#sk-container-id-8 div.sk-estimator input.sk-toggleable__control:checked~label.sk-toggleable__label {background-color: #d4ebff;}#sk-container-id-8 div.sk-label input.sk-toggleable__control:checked~label.sk-toggleable__label {background-color: #d4ebff;}#sk-container-id-8 input.sk-hidden--visually {border: 0;clip: rect(1px 1px 1px 1px);clip: rect(1px, 1px, 1px, 1px);height: 1px;margin: -1px;overflow: hidden;padding: 0;position: absolute;width: 1px;}#sk-container-id-8 div.sk-estimator {font-family: monospace;background-color: #f0f8ff;border: 1px dotted black;border-radius: 0.25em;box-sizing: border-box;margin-bottom: 0.5em;}#sk-container-id-8 div.sk-estimator:hover {background-color: #d4ebff;}#sk-container-id-8 div.sk-parallel-item::after {content: \"\";width: 100%;border-bottom: 1px solid gray;flex-grow: 1;}#sk-container-id-8 div.sk-label:hover label.sk-toggleable__label {background-color: #d4ebff;}#sk-container-id-8 div.sk-serial::before {content: \"\";position: absolute;border-left: 1px solid gray;box-sizing: border-box;top: 0;bottom: 0;left: 50%;z-index: 0;}#sk-container-id-8 div.sk-serial {display: flex;flex-direction: column;align-items: center;background-color: white;padding-right: 0.2em;padding-left: 0.2em;position: relative;}#sk-container-id-8 div.sk-item {position: relative;z-index: 1;}#sk-container-id-8 div.sk-parallel {display: flex;align-items: stretch;justify-content: center;background-color: white;position: relative;}#sk-container-id-8 div.sk-item::before, #sk-container-id-8 div.sk-parallel-item::before {content: \"\";position: absolute;border-left: 1px solid gray;box-sizing: border-box;top: 0;bottom: 0;left: 50%;z-index: -1;}#sk-container-id-8 div.sk-parallel-item {display: flex;flex-direction: column;z-index: 1;position: relative;background-color: white;}#sk-container-id-8 div.sk-parallel-item:first-child::after {align-self: flex-end;width: 50%;}#sk-container-id-8 div.sk-parallel-item:last-child::after {align-self: flex-start;width: 50%;}#sk-container-id-8 div.sk-parallel-item:only-child::after {width: 0;}#sk-container-id-8 div.sk-dashed-wrapped {border: 1px dashed gray;margin: 0 0.4em 0.5em 0.4em;box-sizing: border-box;padding-bottom: 0.4em;background-color: white;}#sk-container-id-8 div.sk-label label {font-family: monospace;font-weight: bold;display: inline-block;line-height: 1.2em;}#sk-container-id-8 div.sk-label-container {text-align: center;}#sk-container-id-8 div.sk-container {/* jupyter's `normalize.less` sets `[hidden] { display: none; }` but bootstrap.min.css set `[hidden] { display: none !important; }` so we also need the `!important` here to be able to override the default hidden behavior on the sphinx rendered scikit-learn.org. See: https://github.com/scikit-learn/scikit-learn/issues/21755 */display: inline-block !important;position: relative;}#sk-container-id-8 div.sk-text-repr-fallback {display: none;}</style><div id=\"sk-container-id-8\" class=\"sk-top-container\"><div class=\"sk-text-repr-fallback\"><pre>Pipeline(steps=[(&#x27;ss&#x27;, StandardScaler()),\n",
       "                (&#x27;ridge&#x27;,\n",
       "                 RidgeCV(alphas=[0.01, 0.1, 2, 5, 100],\n",
       "                         cv=KFold(n_splits=8, random_state=None, shuffle=False)))])</pre><b>In a Jupyter environment, please rerun this cell to show the HTML representation or trust the notebook. <br />On GitHub, the HTML representation is unable to render, please try loading this page with nbviewer.org.</b></div><div class=\"sk-container\" hidden><div class=\"sk-item sk-dashed-wrapped\"><div class=\"sk-label-container\"><div class=\"sk-label sk-toggleable\"><input class=\"sk-toggleable__control sk-hidden--visually\" id=\"sk-estimator-id-22\" type=\"checkbox\" ><label for=\"sk-estimator-id-22\" class=\"sk-toggleable__label sk-toggleable__label-arrow\">Pipeline</label><div class=\"sk-toggleable__content\"><pre>Pipeline(steps=[(&#x27;ss&#x27;, StandardScaler()),\n",
       "                (&#x27;ridge&#x27;,\n",
       "                 RidgeCV(alphas=[0.01, 0.1, 2, 5, 100],\n",
       "                         cv=KFold(n_splits=8, random_state=None, shuffle=False)))])</pre></div></div></div><div class=\"sk-serial\"><div class=\"sk-item\"><div class=\"sk-estimator sk-toggleable\"><input class=\"sk-toggleable__control sk-hidden--visually\" id=\"sk-estimator-id-23\" type=\"checkbox\" ><label for=\"sk-estimator-id-23\" class=\"sk-toggleable__label sk-toggleable__label-arrow\">StandardScaler</label><div class=\"sk-toggleable__content\"><pre>StandardScaler()</pre></div></div></div><div class=\"sk-item\"><div class=\"sk-estimator sk-toggleable\"><input class=\"sk-toggleable__control sk-hidden--visually\" id=\"sk-estimator-id-24\" type=\"checkbox\" ><label for=\"sk-estimator-id-24\" class=\"sk-toggleable__label sk-toggleable__label-arrow\">RidgeCV</label><div class=\"sk-toggleable__content\"><pre>RidgeCV(alphas=[0.01, 0.1, 2, 5, 100],\n",
       "        cv=KFold(n_splits=8, random_state=None, shuffle=False))</pre></div></div></div></div></div></div></div>"
      ],
      "text/plain": [
       "Pipeline(steps=[('ss', StandardScaler()),\n",
       "                ('ridge',\n",
       "                 RidgeCV(alphas=[0.01, 0.1, 2, 5, 100],\n",
       "                         cv=KFold(n_splits=8, random_state=None, shuffle=False)))])"
      ]
     },
     "execution_count": 75,
     "metadata": {},
     "output_type": "execute_result"
    }
   ],
   "source": [
    "pipe3.fit(X_train_B, y_train_B)"
   ]
  },
  {
   "cell_type": "code",
   "execution_count": 76,
   "id": "d5c79544-6d7c-436b-ab78-af295bcdb0f6",
   "metadata": {},
   "outputs": [],
   "source": [
    "y_trainB_predr = pipe3.predict(X_train_B)\n",
    "y_testB_predr = pipe3.predict(X_test_B)"
   ]
  },
  {
   "cell_type": "code",
   "execution_count": 77,
   "id": "fe872c1d-43ce-4bb8-984a-074055593937",
   "metadata": {},
   "outputs": [
    {
     "name": "stdout",
     "output_type": "stream",
     "text": [
      "RMSE train: 36641.033\n",
      "RMSE test: 36461.758\n",
      "R2 train: 0.9091\n",
      "R2 test: 0.9094\n"
     ]
    }
   ],
   "source": [
    "rmse_trainB = mean_squared_error(y_train_B,y_trainB_predr, squared=False)\n",
    "rmse_testB = mean_squared_error(y_test_B,y_testB_predr, squared=False)\n",
    "\n",
    "r2_trainB = r2_score(y_train,y_trainB_preds)\n",
    "r2_testB = r2_score(y_test,y_testB_preds)\n",
    "\n",
    "print(\"RMSE train:\",round(rmse_trainB,3))\n",
    "print(\"RMSE test:\",round(rmse_testB,3))\n",
    "print(\"R2 train:\",round(r2_trainB,4))\n",
    "print(\"R2 test:\",round(r2_testB,4))"
   ]
  },
  {
   "cell_type": "code",
   "execution_count": 78,
   "id": "3616b141-9156-4c8e-b5a7-bdc65928ace6",
   "metadata": {},
   "outputs": [
    {
     "data": {
      "text/plain": [
       "5.0"
      ]
     },
     "execution_count": 78,
     "metadata": {},
     "output_type": "execute_result"
    }
   ],
   "source": [
    "ridge_alp = pipe3.named_steps['ridge'].alpha_\n",
    "ridge_alp"
   ]
  },
  {
   "cell_type": "markdown",
   "id": "98111b96-a186-4e82-9438-8d588edd6c63",
   "metadata": {},
   "source": [
    "## Evaluation Metrics"
   ]
  },
  {
   "cell_type": "markdown",
   "id": "8671baca-0263-49b7-9967-518033e9299f",
   "metadata": {
    "tags": []
   },
   "source": [
    "|Feature A or B| Model       |Alpha value| R2 Score (Train) | R2 Score (Test) | RMSE (Train) | RMSE (Test) | Remarks         |\n",
    "|--------------|-------------|-----------|------------------|-----------------|--------------|-------------|-----------------|\n",
    "| A            | Linear Regression     |  -  |     0.8991   | 0.8987          | 38610.845    | 38577.386   | Good fit; Baseline score  |\n",
    "| A            | LassoCV               |  0.1  |  0.8991    | 0.8987          | 38607.449    | 38570.234   | Good fit        |\n",
    "| A            | RidgeCV               |  5  | 0.8991       | 0.8987          | 38607.481    | 38570.206   | Good fit        |\n",
    "| B            | Linear Regression     |  -  |  0.9091      |0.9094           | 36650.501    | 36476.541   | Good fit        |\n",
    "| B            | LassoCV               |  2  |  0.9091      |0.9095           | 36641.732     | 36465.649   | Good fit        |\n",
    "| B            | RidgeCV               |  5  |  0.9091      |0.9094           | 36641.033    | 36461.758   | Good fit        |\n",
    "\n",
    "\n"
   ]
  },
  {
   "cell_type": "markdown",
   "id": "5e103750-30ee-4591-a42a-5acce98302db",
   "metadata": {},
   "source": [
    "The models performed well as the discrepancies are insignificant between the RMSE scores for each model and features. Between the two types of features, the models with Feature B predicted better with smaller RMSE values. With this, we will be using RidgeCV as the model, with features B, to predict the values from the `test_data`."
   ]
  },
  {
   "cell_type": "markdown",
   "id": "a4f51088-06df-4235-b18b-b76c0a27351c",
   "metadata": {},
   "source": [
    "## Understanding the Coefficients\n",
    "\n",
    "The coefficients of the features show the extent of the impact of the feature onto the `resale_price`."
   ]
  },
  {
   "cell_type": "code",
   "execution_count": 79,
   "id": "02b0a68e-b0c9-4750-9997-bf40db905f6c",
   "metadata": {},
   "outputs": [],
   "source": [
    "pipe3_coef = pipe3.named_steps['ridge'].coef_\n",
    "\n",
    "# Create a DataFrame to display the coefficients with their respective features\n",
    "df_coef_pipe3 = pd.DataFrame({'Feature': X_train_B.columns, 'Coefficient': pipe3_coef})\n",
    "\n",
    "abs_coef = [abs(x) for x in df_coef_pipe3['Coefficient']]\n",
    "\n",
    "df_coef_pipe3['Abs_Coef']=abs_coef"
   ]
  },
  {
   "cell_type": "code",
   "execution_count": 80,
   "id": "c3a83ba8-9168-4bf4-bf9e-d2f402151a1a",
   "metadata": {},
   "outputs": [
    {
     "data": {
      "text/html": [
       "<div>\n",
       "<style scoped>\n",
       "    .dataframe tbody tr th:only-of-type {\n",
       "        vertical-align: middle;\n",
       "    }\n",
       "\n",
       "    .dataframe tbody tr th {\n",
       "        vertical-align: top;\n",
       "    }\n",
       "\n",
       "    .dataframe thead th {\n",
       "        text-align: right;\n",
       "    }\n",
       "</style>\n",
       "<table border=\"1\" class=\"dataframe\">\n",
       "  <thead>\n",
       "    <tr style=\"text-align: right;\">\n",
       "      <th></th>\n",
       "      <th>Feature</th>\n",
       "      <th>Coefficient</th>\n",
       "      <th>Abs_Coef</th>\n",
       "    </tr>\n",
       "  </thead>\n",
       "  <tbody>\n",
       "    <tr>\n",
       "      <th>0</th>\n",
       "      <td>floor_area_sqm</td>\n",
       "      <td>67604.046160</td>\n",
       "      <td>67604.046160</td>\n",
       "    </tr>\n",
       "    <tr>\n",
       "      <th>2</th>\n",
       "      <td>hdb_age</td>\n",
       "      <td>-53231.204692</td>\n",
       "      <td>53231.204692</td>\n",
       "    </tr>\n",
       "    <tr>\n",
       "      <th>6</th>\n",
       "      <td>mrt_nearest_distance</td>\n",
       "      <td>-22202.937398</td>\n",
       "      <td>22202.937398</td>\n",
       "    </tr>\n",
       "    <tr>\n",
       "      <th>341</th>\n",
       "      <td>pA_Bedok</td>\n",
       "      <td>18259.939945</td>\n",
       "      <td>18259.939945</td>\n",
       "    </tr>\n",
       "    <tr>\n",
       "      <th>1</th>\n",
       "      <td>storey</td>\n",
       "      <td>16708.528410</td>\n",
       "      <td>16708.528410</td>\n",
       "    </tr>\n",
       "    <tr>\n",
       "      <th>28</th>\n",
       "      <td>type_3 ROOM</td>\n",
       "      <td>-16439.515340</td>\n",
       "      <td>16439.515340</td>\n",
       "    </tr>\n",
       "    <tr>\n",
       "      <th>31</th>\n",
       "      <td>type_EXECUTIVE</td>\n",
       "      <td>14555.243726</td>\n",
       "      <td>14555.243726</td>\n",
       "    </tr>\n",
       "    <tr>\n",
       "      <th>347</th>\n",
       "      <td>pA_Choa Chu Kang</td>\n",
       "      <td>-12690.024492</td>\n",
       "      <td>12690.024492</td>\n",
       "    </tr>\n",
       "    <tr>\n",
       "      <th>30</th>\n",
       "      <td>type_5 ROOM</td>\n",
       "      <td>11689.734905</td>\n",
       "      <td>11689.734905</td>\n",
       "    </tr>\n",
       "    <tr>\n",
       "      <th>344</th>\n",
       "      <td>pA_Bukit Merah</td>\n",
       "      <td>10393.366201</td>\n",
       "      <td>10393.366201</td>\n",
       "    </tr>\n",
       "    <tr>\n",
       "      <th>108</th>\n",
       "      <td>pri_Kheng Cheng School</td>\n",
       "      <td>9739.146465</td>\n",
       "      <td>9739.146465</td>\n",
       "    </tr>\n",
       "    <tr>\n",
       "      <th>138</th>\n",
       "      <td>pri_Pei Chun Public School</td>\n",
       "      <td>9653.873192</td>\n",
       "      <td>9653.873192</td>\n",
       "    </tr>\n",
       "    <tr>\n",
       "      <th>369</th>\n",
       "      <td>pA_Woodlands</td>\n",
       "      <td>-9530.145629</td>\n",
       "      <td>9530.145629</td>\n",
       "    </tr>\n",
       "    <tr>\n",
       "      <th>96</th>\n",
       "      <td>pri_Hong Wen School</td>\n",
       "      <td>9275.003294</td>\n",
       "      <td>9275.003294</td>\n",
       "    </tr>\n",
       "    <tr>\n",
       "      <th>177</th>\n",
       "      <td>pri_Tao Nan School</td>\n",
       "      <td>9010.456535</td>\n",
       "      <td>9010.456535</td>\n",
       "    </tr>\n",
       "    <tr>\n",
       "      <th>343</th>\n",
       "      <td>pA_Bukit Batok</td>\n",
       "      <td>-8297.333992</td>\n",
       "      <td>8297.333992</td>\n",
       "    </tr>\n",
       "    <tr>\n",
       "      <th>27</th>\n",
       "      <td>type_2 ROOM</td>\n",
       "      <td>-8059.164865</td>\n",
       "      <td>8059.164865</td>\n",
       "    </tr>\n",
       "    <tr>\n",
       "      <th>310</th>\n",
       "      <td>sec_Saint Patrick's School</td>\n",
       "      <td>8020.416534</td>\n",
       "      <td>8020.416534</td>\n",
       "    </tr>\n",
       "    <tr>\n",
       "      <th>58</th>\n",
       "      <td>pri_Catholic High School</td>\n",
       "      <td>7632.293384</td>\n",
       "      <td>7632.293384</td>\n",
       "    </tr>\n",
       "    <tr>\n",
       "      <th>288</th>\n",
       "      <td>sec_Outram Secondary School</td>\n",
       "      <td>7560.703550</td>\n",
       "      <td>7560.703550</td>\n",
       "    </tr>\n",
       "    <tr>\n",
       "      <th>10</th>\n",
       "      <td>model_DBSS</td>\n",
       "      <td>7492.722883</td>\n",
       "      <td>7492.722883</td>\n",
       "    </tr>\n",
       "    <tr>\n",
       "      <th>219</th>\n",
       "      <td>sec_Boon Lay Secondary School</td>\n",
       "      <td>-7188.737580</td>\n",
       "      <td>7188.737580</td>\n",
       "    </tr>\n",
       "    <tr>\n",
       "      <th>43</th>\n",
       "      <td>pri_Bendemeer Primary School</td>\n",
       "      <td>7110.031515</td>\n",
       "      <td>7110.031515</td>\n",
       "    </tr>\n",
       "    <tr>\n",
       "      <th>362</th>\n",
       "      <td>pA_Sembawang</td>\n",
       "      <td>-6970.411818</td>\n",
       "      <td>6970.411818</td>\n",
       "    </tr>\n",
       "    <tr>\n",
       "      <th>5</th>\n",
       "      <td>mall_nearest_distance</td>\n",
       "      <td>-6856.057494</td>\n",
       "      <td>6856.057494</td>\n",
       "    </tr>\n",
       "    <tr>\n",
       "      <th>183</th>\n",
       "      <td>pri_Unity Primary School</td>\n",
       "      <td>-6631.857246</td>\n",
       "      <td>6631.857246</td>\n",
       "    </tr>\n",
       "    <tr>\n",
       "      <th>174</th>\n",
       "      <td>pri_Stamford Primary School</td>\n",
       "      <td>6423.174721</td>\n",
       "      <td>6423.174721</td>\n",
       "    </tr>\n",
       "    <tr>\n",
       "      <th>112</th>\n",
       "      <td>pri_Lakeside Primary School</td>\n",
       "      <td>-6412.213919</td>\n",
       "      <td>6412.213919</td>\n",
       "    </tr>\n",
       "    <tr>\n",
       "      <th>226</th>\n",
       "      <td>sec_CHIJ Katong Convent</td>\n",
       "      <td>6382.673083</td>\n",
       "      <td>6382.673083</td>\n",
       "    </tr>\n",
       "    <tr>\n",
       "      <th>266</th>\n",
       "      <td>sec_Jurong West Secondary School</td>\n",
       "      <td>-6316.852008</td>\n",
       "      <td>6316.852008</td>\n",
       "    </tr>\n",
       "  </tbody>\n",
       "</table>\n",
       "</div>"
      ],
      "text/plain": [
       "                              Feature   Coefficient      Abs_Coef\n",
       "0                      floor_area_sqm  67604.046160  67604.046160\n",
       "2                             hdb_age -53231.204692  53231.204692\n",
       "6                mrt_nearest_distance -22202.937398  22202.937398\n",
       "341                          pA_Bedok  18259.939945  18259.939945\n",
       "1                              storey  16708.528410  16708.528410\n",
       "28                        type_3 ROOM -16439.515340  16439.515340\n",
       "31                     type_EXECUTIVE  14555.243726  14555.243726\n",
       "347                  pA_Choa Chu Kang -12690.024492  12690.024492\n",
       "30                        type_5 ROOM  11689.734905  11689.734905\n",
       "344                    pA_Bukit Merah  10393.366201  10393.366201\n",
       "108            pri_Kheng Cheng School   9739.146465   9739.146465\n",
       "138        pri_Pei Chun Public School   9653.873192   9653.873192\n",
       "369                      pA_Woodlands  -9530.145629   9530.145629\n",
       "96                pri_Hong Wen School   9275.003294   9275.003294\n",
       "177                pri_Tao Nan School   9010.456535   9010.456535\n",
       "343                    pA_Bukit Batok  -8297.333992   8297.333992\n",
       "27                        type_2 ROOM  -8059.164865   8059.164865\n",
       "310        sec_Saint Patrick's School   8020.416534   8020.416534\n",
       "58           pri_Catholic High School   7632.293384   7632.293384\n",
       "288       sec_Outram Secondary School   7560.703550   7560.703550\n",
       "10                         model_DBSS   7492.722883   7492.722883\n",
       "219     sec_Boon Lay Secondary School  -7188.737580   7188.737580\n",
       "43       pri_Bendemeer Primary School   7110.031515   7110.031515\n",
       "362                      pA_Sembawang  -6970.411818   6970.411818\n",
       "5               mall_nearest_distance  -6856.057494   6856.057494\n",
       "183          pri_Unity Primary School  -6631.857246   6631.857246\n",
       "174       pri_Stamford Primary School   6423.174721   6423.174721\n",
       "112       pri_Lakeside Primary School  -6412.213919   6412.213919\n",
       "226           sec_CHIJ Katong Convent   6382.673083   6382.673083\n",
       "266  sec_Jurong West Secondary School  -6316.852008   6316.852008"
      ]
     },
     "execution_count": 80,
     "metadata": {},
     "output_type": "execute_result"
    }
   ],
   "source": [
    "coef_sorted = df_coef_pipe3.sort_values(by='Abs_Coef', ascending=False)\n",
    "coef_sorted.head(30)"
   ]
  },
  {
   "cell_type": "code",
   "execution_count": 81,
   "id": "d9036027-8ac7-4166-8884-8938cdeca875",
   "metadata": {},
   "outputs": [
    {
     "data": {
      "image/png": "[encoded data removed]",
      "text/plain": [
       "<Figure size 600x1200 with 1 Axes>"
      ]
     },
     "metadata": {},
     "output_type": "display_data"
    }
   ],
   "source": [
    "plt.figure(figsize=(6, 12))\n",
    "sns.barplot(coef_sorted.head(30), x='Coefficient',y='Feature', orient='h')\n",
    "\n",
    "plt.xlabel('Coefficient Value')\n",
    "plt.ylabel('Feature')\n",
    "plt.title('Top 30 Coefficients')\n",
    "plt.xticks(rotation=90)\n",
    "\n",
    "plt.show()"
   ]
  },
  {
   "cell_type": "markdown",
   "id": "5d2f6b97-bed9-442c-b68c-01161cbe2acf",
   "metadata": {},
   "source": [
    "The top amenitites that contribute to the resale prices are:\n",
    "1. The size of the flat\n",
    "2. The flat age\n",
    "3. The distance from the block to the MRT station\n",
    "4. The height of the block\n",
    "\n",
    "Bigger flat sizes and younger blocks drive up the price of the flat. Having taller blocks also increase the value of the flat.<br>\n",
    "Each square metre increase of the `floor_area_sqm` increases the `resale_price` by 67604.05.<br>\n",
    "With each year, the `resale_price` decreases by 53231.20.<br>\n",
    "Each unit of height of a block, the `resale_price` increases by 16708.52."
   ]
  },
  {
   "cell_type": "markdown",
   "id": "2ad66222-64dd-4715-8b8b-ebe21b6c2837",
   "metadata": {},
   "source": [
    "### Predicting the resale price with the test data"
   ]
  },
  {
   "cell_type": "code",
   "execution_count": 49,
   "id": "9b1b04e1-e5fe-4805-b590-c23e4dcd1357",
   "metadata": {},
   "outputs": [],
   "source": [
    "test_data = pd.read_csv('datasets/cleaned_test_data.csv')"
   ]
  },
  {
   "cell_type": "code",
   "execution_count": 50,
   "id": "1023f603-8078-4968-ba74-daa014b77eaa",
   "metadata": {},
   "outputs": [
    {
     "data": {
      "text/plain": [
       "Index(['tranc_yearmonth', 'town', 'flat_type', 'block', 'street_name',\n",
       "       'floor_area_sqm', 'flat_model', 'lease_commence_date', 'tranc_year',\n",
       "       'tranc_month', 'storey', 'hdb_age', 'max_floor_lvl', 'commercial',\n",
       "       'market_hawker', 'multistorey_carpark', 'precinct_pavilion',\n",
       "       'total_dwelling_units', 'planning_area', 'mall_nearest_distance',\n",
       "       'mall_within_500m', 'mall_within_1km', 'mall_within_2km',\n",
       "       'hawker_nearest_distance', 'hawker_within_500m', 'hawker_within_1km',\n",
       "       'hawker_within_2km', 'hawker_food_stalls', 'hawker_market_stalls',\n",
       "       'mrt_nearest_distance', 'mrt_name', 'bus_interchange',\n",
       "       'bus_stop_nearest_distance', 'pri_sch_nearest_distance', 'pri_sch_name',\n",
       "       'pri_sch_affiliation', 'sec_sch_nearest_dist', 'sec_sch_name',\n",
       "       'cutoff_point', 'affiliation'],\n",
       "      dtype='object')"
      ]
     },
     "execution_count": 50,
     "metadata": {},
     "output_type": "execute_result"
    }
   ],
   "source": [
    "test_data.columns"
   ]
  },
  {
   "cell_type": "code",
   "execution_count": 51,
   "id": "0fefd454-b358-4704-ada1-4ea13b64622d",
   "metadata": {},
   "outputs": [],
   "source": [
    "features = ['tranc_yearmonth',\n",
    " 'flat_type',\n",
    " 'floor_area_sqm',\n",
    " 'flat_model',\n",
    " 'storey',\n",
    " 'hdb_age',\n",
    " 'max_floor_lvl',\n",
    " 'commercial',\n",
    " 'market_hawker',\n",
    " 'planning_area',\n",
    " 'mall_nearest_distance',\n",
    " 'mrt_nearest_distance',\n",
    " 'pri_sch_name',\n",
    " 'sec_sch_name']\n",
    "\n",
    "data = test_data[features]"
   ]
  },
  {
   "cell_type": "code",
   "execution_count": 52,
   "id": "7a207614-b096-4c2d-99bf-c0f94cfea948",
   "metadata": {},
   "outputs": [],
   "source": [
    "data = pd.get_dummies(data= data, columns=['flat_model'], prefix='model')\n",
    "data = pd.get_dummies(data= data, columns=['flat_type'], prefix='type')\n",
    "data = pd.get_dummies(data=data, columns=['pri_sch_name'], prefix='pri')\n",
    "data = pd.get_dummies(data=data, columns=['sec_sch_name'], prefix='sec')\n",
    "data = pd.get_dummies(data=data, columns=['planning_area'], prefix='pA')\n",
    "data = pd.get_dummies(data=data, columns=['tranc_yearmonth'], prefix='ym')"
   ]
  },
  {
   "cell_type": "code",
   "execution_count": 53,
   "id": "d48fb827-292c-4b98-aa6b-4d44a051cef4",
   "metadata": {
    "scrolled": true,
    "tags": []
   },
   "outputs": [
    {
     "name": "stdout",
     "output_type": "stream",
     "text": [
      "(100569, 438)\n",
      "(16737, 40)\n",
      "Index(['food_mark_stalls', 'mrt_pri_dist', 'mar_haw_pavi', 'comm_pavi',\n",
      "       'mscp_pavi', 'comm_mscp', 'floor_area_sqm', 'storey', 'hdb_age',\n",
      "       'mall_nearest_distance',\n",
      "       ...\n",
      "       'mrt_Ubi', 'mrt_Upper Changi', 'mrt_Woodlands', 'mrt_Woodlands North',\n",
      "       'mrt_Woodlands South', 'mrt_Woodleigh', 'mrt_Yew Tee',\n",
      "       'mrt_Yio Chu Kang', 'mrt_Yishun', 'mrt_one-north'],\n",
      "      dtype='object', length=438)\n",
      "Index(['tranc_yearmonth', 'town', 'flat_type', 'block', 'street_name',\n",
      "       'floor_area_sqm', 'flat_model', 'lease_commence_date', 'tranc_year',\n",
      "       'tranc_month', 'storey', 'hdb_age', 'max_floor_lvl', 'commercial',\n",
      "       'market_hawker', 'multistorey_carpark', 'precinct_pavilion',\n",
      "       'total_dwelling_units', 'planning_area', 'mall_nearest_distance',\n",
      "       'mall_within_500m', 'mall_within_1km', 'mall_within_2km',\n",
      "       'hawker_nearest_distance', 'hawker_within_500m', 'hawker_within_1km',\n",
      "       'hawker_within_2km', 'hawker_food_stalls', 'hawker_market_stalls',\n",
      "       'mrt_nearest_distance', 'mrt_name', 'bus_interchange',\n",
      "       'bus_stop_nearest_distance', 'pri_sch_nearest_distance', 'pri_sch_name',\n",
      "       'pri_sch_affiliation', 'sec_sch_nearest_dist', 'sec_sch_name',\n",
      "       'cutoff_point', 'affiliation'],\n",
      "      dtype='object')\n"
     ]
    },
    {
     "name": "stderr",
     "output_type": "stream",
     "text": [
      "/var/folders/k7/8c5x2ygj2td4rpnn786dd9480000gp/T/ipykernel_50799/366917901.py:4: PerformanceWarning: DataFrame is highly fragmented.  This is usually the result of calling `frame.insert` many times, which has poor performance.  Consider joining all columns at once using pd.concat(axis=1) instead. To get a de-fragmented frame, use `newframe = frame.copy()`\n",
      "  data[i]=0\n",
      "/var/folders/k7/8c5x2ygj2td4rpnn786dd9480000gp/T/ipykernel_50799/366917901.py:4: PerformanceWarning: DataFrame is highly fragmented.  This is usually the result of calling `frame.insert` many times, which has poor performance.  Consider joining all columns at once using pd.concat(axis=1) instead. To get a de-fragmented frame, use `newframe = frame.copy()`\n",
      "  data[i]=0\n",
      "/var/folders/k7/8c5x2ygj2td4rpnn786dd9480000gp/T/ipykernel_50799/366917901.py:4: PerformanceWarning: DataFrame is highly fragmented.  This is usually the result of calling `frame.insert` many times, which has poor performance.  Consider joining all columns at once using pd.concat(axis=1) instead. To get a de-fragmented frame, use `newframe = frame.copy()`\n",
      "  data[i]=0\n",
      "/var/folders/k7/8c5x2ygj2td4rpnn786dd9480000gp/T/ipykernel_50799/366917901.py:4: PerformanceWarning: DataFrame is highly fragmented.  This is usually the result of calling `frame.insert` many times, which has poor performance.  Consider joining all columns at once using pd.concat(axis=1) instead. To get a de-fragmented frame, use `newframe = frame.copy()`\n",
      "  data[i]=0\n",
      "/var/folders/k7/8c5x2ygj2td4rpnn786dd9480000gp/T/ipykernel_50799/366917901.py:4: PerformanceWarning: DataFrame is highly fragmented.  This is usually the result of calling `frame.insert` many times, which has poor performance.  Consider joining all columns at once using pd.concat(axis=1) instead. To get a de-fragmented frame, use `newframe = frame.copy()`\n",
      "  data[i]=0\n",
      "/var/folders/k7/8c5x2ygj2td4rpnn786dd9480000gp/T/ipykernel_50799/366917901.py:4: PerformanceWarning: DataFrame is highly fragmented.  This is usually the result of calling `frame.insert` many times, which has poor performance.  Consider joining all columns at once using pd.concat(axis=1) instead. To get a de-fragmented frame, use `newframe = frame.copy()`\n",
      "  data[i]=0\n",
      "/var/folders/k7/8c5x2ygj2td4rpnn786dd9480000gp/T/ipykernel_50799/366917901.py:4: PerformanceWarning: DataFrame is highly fragmented.  This is usually the result of calling `frame.insert` many times, which has poor performance.  Consider joining all columns at once using pd.concat(axis=1) instead. To get a de-fragmented frame, use `newframe = frame.copy()`\n",
      "  data[i]=0\n"
     ]
    }
   ],
   "source": [
    "to_be_added = [x for x in X_train.columns if x not in data.columns]\n",
    "\n",
    "for i in to_be_added:\n",
    "    data[i]=0\n",
    "\n",
    "print(X_train.shape)\n",
    "print(test_data.shape)\n",
    "print(X_train.columns)\n",
    "print(test_data.columns)"
   ]
  },
  {
   "cell_type": "code",
   "execution_count": 54,
   "id": "f1c972de-ffc6-4069-ad54-4e88517b4aba",
   "metadata": {
    "scrolled": true,
    "tags": []
   },
   "outputs": [
    {
     "name": "stdout",
     "output_type": "stream",
     "text": [
      "(100569, 588)\n",
      "(16737, 40)\n",
      "Index(['food_mark_stalls', 'mrt_pri_dist', 'mar_haw_pavi', 'comm_pavi',\n",
      "       'mscp_pavi', 'comm_mscp', 'floor_area_sqm', 'storey', 'hdb_age',\n",
      "       'mall_nearest_distance',\n",
      "       ...\n",
      "       'ym_2020-07', 'ym_2020-08', 'ym_2020-09', 'ym_2020-10', 'ym_2020-11',\n",
      "       'ym_2020-12', 'ym_2021-01', 'ym_2021-02', 'ym_2021-03', 'ym_2021-04'],\n",
      "      dtype='object', length=588)\n",
      "Index(['tranc_yearmonth', 'town', 'flat_type', 'block', 'street_name',\n",
      "       'floor_area_sqm', 'flat_model', 'lease_commence_date', 'tranc_year',\n",
      "       'tranc_month', 'storey', 'hdb_age', 'max_floor_lvl', 'commercial',\n",
      "       'market_hawker', 'multistorey_carpark', 'precinct_pavilion',\n",
      "       'total_dwelling_units', 'planning_area', 'mall_nearest_distance',\n",
      "       'mall_within_500m', 'mall_within_1km', 'mall_within_2km',\n",
      "       'hawker_nearest_distance', 'hawker_within_500m', 'hawker_within_1km',\n",
      "       'hawker_within_2km', 'hawker_food_stalls', 'hawker_market_stalls',\n",
      "       'mrt_nearest_distance', 'mrt_name', 'bus_interchange',\n",
      "       'bus_stop_nearest_distance', 'pri_sch_nearest_distance', 'pri_sch_name',\n",
      "       'pri_sch_affiliation', 'sec_sch_nearest_dist', 'sec_sch_name',\n",
      "       'cutoff_point', 'affiliation'],\n",
      "      dtype='object')\n"
     ]
    },
    {
     "name": "stderr",
     "output_type": "stream",
     "text": [
      "/var/folders/k7/8c5x2ygj2td4rpnn786dd9480000gp/T/ipykernel_50799/2526487072.py:4: PerformanceWarning: DataFrame is highly fragmented.  This is usually the result of calling `frame.insert` many times, which has poor performance.  Consider joining all columns at once using pd.concat(axis=1) instead. To get a de-fragmented frame, use `newframe = frame.copy()`\n",
      "  X_train[i]=0\n",
      "/var/folders/k7/8c5x2ygj2td4rpnn786dd9480000gp/T/ipykernel_50799/2526487072.py:4: PerformanceWarning: DataFrame is highly fragmented.  This is usually the result of calling `frame.insert` many times, which has poor performance.  Consider joining all columns at once using pd.concat(axis=1) instead. To get a de-fragmented frame, use `newframe = frame.copy()`\n",
      "  X_train[i]=0\n",
      "/var/folders/k7/8c5x2ygj2td4rpnn786dd9480000gp/T/ipykernel_50799/2526487072.py:4: PerformanceWarning: DataFrame is highly fragmented.  This is usually the result of calling `frame.insert` many times, which has poor performance.  Consider joining all columns at once using pd.concat(axis=1) instead. To get a de-fragmented frame, use `newframe = frame.copy()`\n",
      "  X_train[i]=0\n",
      "/var/folders/k7/8c5x2ygj2td4rpnn786dd9480000gp/T/ipykernel_50799/2526487072.py:4: PerformanceWarning: DataFrame is highly fragmented.  This is usually the result of calling `frame.insert` many times, which has poor performance.  Consider joining all columns at once using pd.concat(axis=1) instead. To get a de-fragmented frame, use `newframe = frame.copy()`\n",
      "  X_train[i]=0\n",
      "/var/folders/k7/8c5x2ygj2td4rpnn786dd9480000gp/T/ipykernel_50799/2526487072.py:4: PerformanceWarning: DataFrame is highly fragmented.  This is usually the result of calling `frame.insert` many times, which has poor performance.  Consider joining all columns at once using pd.concat(axis=1) instead. To get a de-fragmented frame, use `newframe = frame.copy()`\n",
      "  X_train[i]=0\n",
      "/var/folders/k7/8c5x2ygj2td4rpnn786dd9480000gp/T/ipykernel_50799/2526487072.py:4: PerformanceWarning: DataFrame is highly fragmented.  This is usually the result of calling `frame.insert` many times, which has poor performance.  Consider joining all columns at once using pd.concat(axis=1) instead. To get a de-fragmented frame, use `newframe = frame.copy()`\n",
      "  X_train[i]=0\n",
      "/var/folders/k7/8c5x2ygj2td4rpnn786dd9480000gp/T/ipykernel_50799/2526487072.py:4: PerformanceWarning: DataFrame is highly fragmented.  This is usually the result of calling `frame.insert` many times, which has poor performance.  Consider joining all columns at once using pd.concat(axis=1) instead. To get a de-fragmented frame, use `newframe = frame.copy()`\n",
      "  X_train[i]=0\n",
      "/var/folders/k7/8c5x2ygj2td4rpnn786dd9480000gp/T/ipykernel_50799/2526487072.py:4: PerformanceWarning: DataFrame is highly fragmented.  This is usually the result of calling `frame.insert` many times, which has poor performance.  Consider joining all columns at once using pd.concat(axis=1) instead. To get a de-fragmented frame, use `newframe = frame.copy()`\n",
      "  X_train[i]=0\n",
      "/var/folders/k7/8c5x2ygj2td4rpnn786dd9480000gp/T/ipykernel_50799/2526487072.py:4: PerformanceWarning: DataFrame is highly fragmented.  This is usually the result of calling `frame.insert` many times, which has poor performance.  Consider joining all columns at once using pd.concat(axis=1) instead. To get a de-fragmented frame, use `newframe = frame.copy()`\n",
      "  X_train[i]=0\n",
      "/var/folders/k7/8c5x2ygj2td4rpnn786dd9480000gp/T/ipykernel_50799/2526487072.py:4: PerformanceWarning: DataFrame is highly fragmented.  This is usually the result of calling `frame.insert` many times, which has poor performance.  Consider joining all columns at once using pd.concat(axis=1) instead. To get a de-fragmented frame, use `newframe = frame.copy()`\n",
      "  X_train[i]=0\n",
      "/var/folders/k7/8c5x2ygj2td4rpnn786dd9480000gp/T/ipykernel_50799/2526487072.py:4: PerformanceWarning: DataFrame is highly fragmented.  This is usually the result of calling `frame.insert` many times, which has poor performance.  Consider joining all columns at once using pd.concat(axis=1) instead. To get a de-fragmented frame, use `newframe = frame.copy()`\n",
      "  X_train[i]=0\n",
      "/var/folders/k7/8c5x2ygj2td4rpnn786dd9480000gp/T/ipykernel_50799/2526487072.py:4: PerformanceWarning: DataFrame is highly fragmented.  This is usually the result of calling `frame.insert` many times, which has poor performance.  Consider joining all columns at once using pd.concat(axis=1) instead. To get a de-fragmented frame, use `newframe = frame.copy()`\n",
      "  X_train[i]=0\n",
      "/var/folders/k7/8c5x2ygj2td4rpnn786dd9480000gp/T/ipykernel_50799/2526487072.py:4: PerformanceWarning: DataFrame is highly fragmented.  This is usually the result of calling `frame.insert` many times, which has poor performance.  Consider joining all columns at once using pd.concat(axis=1) instead. To get a de-fragmented frame, use `newframe = frame.copy()`\n",
      "  X_train[i]=0\n",
      "/var/folders/k7/8c5x2ygj2td4rpnn786dd9480000gp/T/ipykernel_50799/2526487072.py:4: PerformanceWarning: DataFrame is highly fragmented.  This is usually the result of calling `frame.insert` many times, which has poor performance.  Consider joining all columns at once using pd.concat(axis=1) instead. To get a de-fragmented frame, use `newframe = frame.copy()`\n",
      "  X_train[i]=0\n",
      "/var/folders/k7/8c5x2ygj2td4rpnn786dd9480000gp/T/ipykernel_50799/2526487072.py:4: PerformanceWarning: DataFrame is highly fragmented.  This is usually the result of calling `frame.insert` many times, which has poor performance.  Consider joining all columns at once using pd.concat(axis=1) instead. To get a de-fragmented frame, use `newframe = frame.copy()`\n",
      "  X_train[i]=0\n",
      "/var/folders/k7/8c5x2ygj2td4rpnn786dd9480000gp/T/ipykernel_50799/2526487072.py:4: PerformanceWarning: DataFrame is highly fragmented.  This is usually the result of calling `frame.insert` many times, which has poor performance.  Consider joining all columns at once using pd.concat(axis=1) instead. To get a de-fragmented frame, use `newframe = frame.copy()`\n",
      "  X_train[i]=0\n",
      "/var/folders/k7/8c5x2ygj2td4rpnn786dd9480000gp/T/ipykernel_50799/2526487072.py:4: PerformanceWarning: DataFrame is highly fragmented.  This is usually the result of calling `frame.insert` many times, which has poor performance.  Consider joining all columns at once using pd.concat(axis=1) instead. To get a de-fragmented frame, use `newframe = frame.copy()`\n",
      "  X_train[i]=0\n",
      "/var/folders/k7/8c5x2ygj2td4rpnn786dd9480000gp/T/ipykernel_50799/2526487072.py:4: PerformanceWarning: DataFrame is highly fragmented.  This is usually the result of calling `frame.insert` many times, which has poor performance.  Consider joining all columns at once using pd.concat(axis=1) instead. To get a de-fragmented frame, use `newframe = frame.copy()`\n",
      "  X_train[i]=0\n",
      "/var/folders/k7/8c5x2ygj2td4rpnn786dd9480000gp/T/ipykernel_50799/2526487072.py:4: PerformanceWarning: DataFrame is highly fragmented.  This is usually the result of calling `frame.insert` many times, which has poor performance.  Consider joining all columns at once using pd.concat(axis=1) instead. To get a de-fragmented frame, use `newframe = frame.copy()`\n",
      "  X_train[i]=0\n",
      "/var/folders/k7/8c5x2ygj2td4rpnn786dd9480000gp/T/ipykernel_50799/2526487072.py:4: PerformanceWarning: DataFrame is highly fragmented.  This is usually the result of calling `frame.insert` many times, which has poor performance.  Consider joining all columns at once using pd.concat(axis=1) instead. To get a de-fragmented frame, use `newframe = frame.copy()`\n",
      "  X_train[i]=0\n",
      "/var/folders/k7/8c5x2ygj2td4rpnn786dd9480000gp/T/ipykernel_50799/2526487072.py:4: PerformanceWarning: DataFrame is highly fragmented.  This is usually the result of calling `frame.insert` many times, which has poor performance.  Consider joining all columns at once using pd.concat(axis=1) instead. To get a de-fragmented frame, use `newframe = frame.copy()`\n",
      "  X_train[i]=0\n",
      "/var/folders/k7/8c5x2ygj2td4rpnn786dd9480000gp/T/ipykernel_50799/2526487072.py:4: PerformanceWarning: DataFrame is highly fragmented.  This is usually the result of calling `frame.insert` many times, which has poor performance.  Consider joining all columns at once using pd.concat(axis=1) instead. To get a de-fragmented frame, use `newframe = frame.copy()`\n",
      "  X_train[i]=0\n",
      "/var/folders/k7/8c5x2ygj2td4rpnn786dd9480000gp/T/ipykernel_50799/2526487072.py:4: PerformanceWarning: DataFrame is highly fragmented.  This is usually the result of calling `frame.insert` many times, which has poor performance.  Consider joining all columns at once using pd.concat(axis=1) instead. To get a de-fragmented frame, use `newframe = frame.copy()`\n",
      "  X_train[i]=0\n",
      "/var/folders/k7/8c5x2ygj2td4rpnn786dd9480000gp/T/ipykernel_50799/2526487072.py:4: PerformanceWarning: DataFrame is highly fragmented.  This is usually the result of calling `frame.insert` many times, which has poor performance.  Consider joining all columns at once using pd.concat(axis=1) instead. To get a de-fragmented frame, use `newframe = frame.copy()`\n",
      "  X_train[i]=0\n",
      "/var/folders/k7/8c5x2ygj2td4rpnn786dd9480000gp/T/ipykernel_50799/2526487072.py:4: PerformanceWarning: DataFrame is highly fragmented.  This is usually the result of calling `frame.insert` many times, which has poor performance.  Consider joining all columns at once using pd.concat(axis=1) instead. To get a de-fragmented frame, use `newframe = frame.copy()`\n",
      "  X_train[i]=0\n",
      "/var/folders/k7/8c5x2ygj2td4rpnn786dd9480000gp/T/ipykernel_50799/2526487072.py:4: PerformanceWarning: DataFrame is highly fragmented.  This is usually the result of calling `frame.insert` many times, which has poor performance.  Consider joining all columns at once using pd.concat(axis=1) instead. To get a de-fragmented frame, use `newframe = frame.copy()`\n",
      "  X_train[i]=0\n",
      "/var/folders/k7/8c5x2ygj2td4rpnn786dd9480000gp/T/ipykernel_50799/2526487072.py:4: PerformanceWarning: DataFrame is highly fragmented.  This is usually the result of calling `frame.insert` many times, which has poor performance.  Consider joining all columns at once using pd.concat(axis=1) instead. To get a de-fragmented frame, use `newframe = frame.copy()`\n",
      "  X_train[i]=0\n",
      "/var/folders/k7/8c5x2ygj2td4rpnn786dd9480000gp/T/ipykernel_50799/2526487072.py:4: PerformanceWarning: DataFrame is highly fragmented.  This is usually the result of calling `frame.insert` many times, which has poor performance.  Consider joining all columns at once using pd.concat(axis=1) instead. To get a de-fragmented frame, use `newframe = frame.copy()`\n",
      "  X_train[i]=0\n",
      "/var/folders/k7/8c5x2ygj2td4rpnn786dd9480000gp/T/ipykernel_50799/2526487072.py:4: PerformanceWarning: DataFrame is highly fragmented.  This is usually the result of calling `frame.insert` many times, which has poor performance.  Consider joining all columns at once using pd.concat(axis=1) instead. To get a de-fragmented frame, use `newframe = frame.copy()`\n",
      "  X_train[i]=0\n",
      "/var/folders/k7/8c5x2ygj2td4rpnn786dd9480000gp/T/ipykernel_50799/2526487072.py:4: PerformanceWarning: DataFrame is highly fragmented.  This is usually the result of calling `frame.insert` many times, which has poor performance.  Consider joining all columns at once using pd.concat(axis=1) instead. To get a de-fragmented frame, use `newframe = frame.copy()`\n",
      "  X_train[i]=0\n",
      "/var/folders/k7/8c5x2ygj2td4rpnn786dd9480000gp/T/ipykernel_50799/2526487072.py:4: PerformanceWarning: DataFrame is highly fragmented.  This is usually the result of calling `frame.insert` many times, which has poor performance.  Consider joining all columns at once using pd.concat(axis=1) instead. To get a de-fragmented frame, use `newframe = frame.copy()`\n",
      "  X_train[i]=0\n",
      "/var/folders/k7/8c5x2ygj2td4rpnn786dd9480000gp/T/ipykernel_50799/2526487072.py:4: PerformanceWarning: DataFrame is highly fragmented.  This is usually the result of calling `frame.insert` many times, which has poor performance.  Consider joining all columns at once using pd.concat(axis=1) instead. To get a de-fragmented frame, use `newframe = frame.copy()`\n",
      "  X_train[i]=0\n",
      "/var/folders/k7/8c5x2ygj2td4rpnn786dd9480000gp/T/ipykernel_50799/2526487072.py:4: PerformanceWarning: DataFrame is highly fragmented.  This is usually the result of calling `frame.insert` many times, which has poor performance.  Consider joining all columns at once using pd.concat(axis=1) instead. To get a de-fragmented frame, use `newframe = frame.copy()`\n",
      "  X_train[i]=0\n",
      "/var/folders/k7/8c5x2ygj2td4rpnn786dd9480000gp/T/ipykernel_50799/2526487072.py:4: PerformanceWarning: DataFrame is highly fragmented.  This is usually the result of calling `frame.insert` many times, which has poor performance.  Consider joining all columns at once using pd.concat(axis=1) instead. To get a de-fragmented frame, use `newframe = frame.copy()`\n",
      "  X_train[i]=0\n",
      "/var/folders/k7/8c5x2ygj2td4rpnn786dd9480000gp/T/ipykernel_50799/2526487072.py:4: PerformanceWarning: DataFrame is highly fragmented.  This is usually the result of calling `frame.insert` many times, which has poor performance.  Consider joining all columns at once using pd.concat(axis=1) instead. To get a de-fragmented frame, use `newframe = frame.copy()`\n",
      "  X_train[i]=0\n",
      "/var/folders/k7/8c5x2ygj2td4rpnn786dd9480000gp/T/ipykernel_50799/2526487072.py:4: PerformanceWarning: DataFrame is highly fragmented.  This is usually the result of calling `frame.insert` many times, which has poor performance.  Consider joining all columns at once using pd.concat(axis=1) instead. To get a de-fragmented frame, use `newframe = frame.copy()`\n",
      "  X_train[i]=0\n",
      "/var/folders/k7/8c5x2ygj2td4rpnn786dd9480000gp/T/ipykernel_50799/2526487072.py:4: PerformanceWarning: DataFrame is highly fragmented.  This is usually the result of calling `frame.insert` many times, which has poor performance.  Consider joining all columns at once using pd.concat(axis=1) instead. To get a de-fragmented frame, use `newframe = frame.copy()`\n",
      "  X_train[i]=0\n",
      "/var/folders/k7/8c5x2ygj2td4rpnn786dd9480000gp/T/ipykernel_50799/2526487072.py:4: PerformanceWarning: DataFrame is highly fragmented.  This is usually the result of calling `frame.insert` many times, which has poor performance.  Consider joining all columns at once using pd.concat(axis=1) instead. To get a de-fragmented frame, use `newframe = frame.copy()`\n",
      "  X_train[i]=0\n",
      "/var/folders/k7/8c5x2ygj2td4rpnn786dd9480000gp/T/ipykernel_50799/2526487072.py:4: PerformanceWarning: DataFrame is highly fragmented.  This is usually the result of calling `frame.insert` many times, which has poor performance.  Consider joining all columns at once using pd.concat(axis=1) instead. To get a de-fragmented frame, use `newframe = frame.copy()`\n",
      "  X_train[i]=0\n",
      "/var/folders/k7/8c5x2ygj2td4rpnn786dd9480000gp/T/ipykernel_50799/2526487072.py:4: PerformanceWarning: DataFrame is highly fragmented.  This is usually the result of calling `frame.insert` many times, which has poor performance.  Consider joining all columns at once using pd.concat(axis=1) instead. To get a de-fragmented frame, use `newframe = frame.copy()`\n",
      "  X_train[i]=0\n",
      "/var/folders/k7/8c5x2ygj2td4rpnn786dd9480000gp/T/ipykernel_50799/2526487072.py:4: PerformanceWarning: DataFrame is highly fragmented.  This is usually the result of calling `frame.insert` many times, which has poor performance.  Consider joining all columns at once using pd.concat(axis=1) instead. To get a de-fragmented frame, use `newframe = frame.copy()`\n",
      "  X_train[i]=0\n",
      "/var/folders/k7/8c5x2ygj2td4rpnn786dd9480000gp/T/ipykernel_50799/2526487072.py:4: PerformanceWarning: DataFrame is highly fragmented.  This is usually the result of calling `frame.insert` many times, which has poor performance.  Consider joining all columns at once using pd.concat(axis=1) instead. To get a de-fragmented frame, use `newframe = frame.copy()`\n",
      "  X_train[i]=0\n",
      "/var/folders/k7/8c5x2ygj2td4rpnn786dd9480000gp/T/ipykernel_50799/2526487072.py:4: PerformanceWarning: DataFrame is highly fragmented.  This is usually the result of calling `frame.insert` many times, which has poor performance.  Consider joining all columns at once using pd.concat(axis=1) instead. To get a de-fragmented frame, use `newframe = frame.copy()`\n",
      "  X_train[i]=0\n",
      "/var/folders/k7/8c5x2ygj2td4rpnn786dd9480000gp/T/ipykernel_50799/2526487072.py:4: PerformanceWarning: DataFrame is highly fragmented.  This is usually the result of calling `frame.insert` many times, which has poor performance.  Consider joining all columns at once using pd.concat(axis=1) instead. To get a de-fragmented frame, use `newframe = frame.copy()`\n",
      "  X_train[i]=0\n",
      "/var/folders/k7/8c5x2ygj2td4rpnn786dd9480000gp/T/ipykernel_50799/2526487072.py:4: PerformanceWarning: DataFrame is highly fragmented.  This is usually the result of calling `frame.insert` many times, which has poor performance.  Consider joining all columns at once using pd.concat(axis=1) instead. To get a de-fragmented frame, use `newframe = frame.copy()`\n",
      "  X_train[i]=0\n",
      "/var/folders/k7/8c5x2ygj2td4rpnn786dd9480000gp/T/ipykernel_50799/2526487072.py:4: PerformanceWarning: DataFrame is highly fragmented.  This is usually the result of calling `frame.insert` many times, which has poor performance.  Consider joining all columns at once using pd.concat(axis=1) instead. To get a de-fragmented frame, use `newframe = frame.copy()`\n",
      "  X_train[i]=0\n",
      "/var/folders/k7/8c5x2ygj2td4rpnn786dd9480000gp/T/ipykernel_50799/2526487072.py:4: PerformanceWarning: DataFrame is highly fragmented.  This is usually the result of calling `frame.insert` many times, which has poor performance.  Consider joining all columns at once using pd.concat(axis=1) instead. To get a de-fragmented frame, use `newframe = frame.copy()`\n",
      "  X_train[i]=0\n",
      "/var/folders/k7/8c5x2ygj2td4rpnn786dd9480000gp/T/ipykernel_50799/2526487072.py:4: PerformanceWarning: DataFrame is highly fragmented.  This is usually the result of calling `frame.insert` many times, which has poor performance.  Consider joining all columns at once using pd.concat(axis=1) instead. To get a de-fragmented frame, use `newframe = frame.copy()`\n",
      "  X_train[i]=0\n",
      "/var/folders/k7/8c5x2ygj2td4rpnn786dd9480000gp/T/ipykernel_50799/2526487072.py:4: PerformanceWarning: DataFrame is highly fragmented.  This is usually the result of calling `frame.insert` many times, which has poor performance.  Consider joining all columns at once using pd.concat(axis=1) instead. To get a de-fragmented frame, use `newframe = frame.copy()`\n",
      "  X_train[i]=0\n",
      "/var/folders/k7/8c5x2ygj2td4rpnn786dd9480000gp/T/ipykernel_50799/2526487072.py:4: PerformanceWarning: DataFrame is highly fragmented.  This is usually the result of calling `frame.insert` many times, which has poor performance.  Consider joining all columns at once using pd.concat(axis=1) instead. To get a de-fragmented frame, use `newframe = frame.copy()`\n",
      "  X_train[i]=0\n",
      "/var/folders/k7/8c5x2ygj2td4rpnn786dd9480000gp/T/ipykernel_50799/2526487072.py:4: PerformanceWarning: DataFrame is highly fragmented.  This is usually the result of calling `frame.insert` many times, which has poor performance.  Consider joining all columns at once using pd.concat(axis=1) instead. To get a de-fragmented frame, use `newframe = frame.copy()`\n",
      "  X_train[i]=0\n",
      "/var/folders/k7/8c5x2ygj2td4rpnn786dd9480000gp/T/ipykernel_50799/2526487072.py:4: PerformanceWarning: DataFrame is highly fragmented.  This is usually the result of calling `frame.insert` many times, which has poor performance.  Consider joining all columns at once using pd.concat(axis=1) instead. To get a de-fragmented frame, use `newframe = frame.copy()`\n",
      "  X_train[i]=0\n",
      "/var/folders/k7/8c5x2ygj2td4rpnn786dd9480000gp/T/ipykernel_50799/2526487072.py:4: PerformanceWarning: DataFrame is highly fragmented.  This is usually the result of calling `frame.insert` many times, which has poor performance.  Consider joining all columns at once using pd.concat(axis=1) instead. To get a de-fragmented frame, use `newframe = frame.copy()`\n",
      "  X_train[i]=0\n"
     ]
    }
   ],
   "source": [
    "to_be_added = [x for x in data.columns if x not in X_train.columns]\n",
    "\n",
    "for i in to_be_added:\n",
    "    X_train[i]=0\n",
    "\n",
    "print(X_train.shape)\n",
    "print(test_data.shape)\n",
    "print(X_train.columns)\n",
    "print(test_data.columns)"
   ]
  },
  {
   "cell_type": "code",
   "execution_count": 55,
   "id": "24e622da-4665-4ec4-b809-57cc078b4985",
   "metadata": {},
   "outputs": [
    {
     "name": "stdout",
     "output_type": "stream",
     "text": [
      "Index(['food_mark_stalls', 'mrt_pri_dist', 'mar_haw_pavi', 'comm_pavi',\n",
      "       'mscp_pavi', 'comm_mscp', 'floor_area_sqm', 'storey', 'hdb_age',\n",
      "       'mall_nearest_distance',\n",
      "       ...\n",
      "       'ym_2020-07', 'ym_2020-08', 'ym_2020-09', 'ym_2020-10', 'ym_2020-11',\n",
      "       'ym_2020-12', 'ym_2021-01', 'ym_2021-02', 'ym_2021-03', 'ym_2021-04'],\n",
      "      dtype='object', length=588)\n"
     ]
    }
   ],
   "source": [
    "# Define the desired order of columns\n",
    "column_order = X_train.columns.tolist()  # Use the column names from X_train\n",
    "\n",
    "# Reorder the columns in X_test\n",
    "data = data[column_order]\n",
    "\n",
    "print(data.columns)"
   ]
  },
  {
   "cell_type": "code",
   "execution_count": 56,
   "id": "5e826b46-d425-42e2-b216-672ab0cc389f",
   "metadata": {},
   "outputs": [
    {
     "data": {
      "text/html": [
       "<style>#sk-container-id-7 {color: black;background-color: white;}#sk-container-id-7 pre{padding: 0;}#sk-container-id-7 div.sk-toggleable {background-color: white;}#sk-container-id-7 label.sk-toggleable__label {cursor: pointer;display: block;width: 100%;margin-bottom: 0;padding: 0.3em;box-sizing: border-box;text-align: center;}#sk-container-id-7 label.sk-toggleable__label-arrow:before {content: \"▸\";float: left;margin-right: 0.25em;color: #696969;}#sk-container-id-7 label.sk-toggleable__label-arrow:hover:before {color: black;}#sk-container-id-7 div.sk-estimator:hover label.sk-toggleable__label-arrow:before {color: black;}#sk-container-id-7 div.sk-toggleable__content {max-height: 0;max-width: 0;overflow: hidden;text-align: left;background-color: #f0f8ff;}#sk-container-id-7 div.sk-toggleable__content pre {margin: 0.2em;color: black;border-radius: 0.25em;background-color: #f0f8ff;}#sk-container-id-7 input.sk-toggleable__control:checked~div.sk-toggleable__content {max-height: 200px;max-width: 100%;overflow: auto;}#sk-container-id-7 input.sk-toggleable__control:checked~label.sk-toggleable__label-arrow:before {content: \"▾\";}#sk-container-id-7 div.sk-estimator input.sk-toggleable__control:checked~label.sk-toggleable__label {background-color: #d4ebff;}#sk-container-id-7 div.sk-label input.sk-toggleable__control:checked~label.sk-toggleable__label {background-color: #d4ebff;}#sk-container-id-7 input.sk-hidden--visually {border: 0;clip: rect(1px 1px 1px 1px);clip: rect(1px, 1px, 1px, 1px);height: 1px;margin: -1px;overflow: hidden;padding: 0;position: absolute;width: 1px;}#sk-container-id-7 div.sk-estimator {font-family: monospace;background-color: #f0f8ff;border: 1px dotted black;border-radius: 0.25em;box-sizing: border-box;margin-bottom: 0.5em;}#sk-container-id-7 div.sk-estimator:hover {background-color: #d4ebff;}#sk-container-id-7 div.sk-parallel-item::after {content: \"\";width: 100%;border-bottom: 1px solid gray;flex-grow: 1;}#sk-container-id-7 div.sk-label:hover label.sk-toggleable__label {background-color: #d4ebff;}#sk-container-id-7 div.sk-serial::before {content: \"\";position: absolute;border-left: 1px solid gray;box-sizing: border-box;top: 0;bottom: 0;left: 50%;z-index: 0;}#sk-container-id-7 div.sk-serial {display: flex;flex-direction: column;align-items: center;background-color: white;padding-right: 0.2em;padding-left: 0.2em;position: relative;}#sk-container-id-7 div.sk-item {position: relative;z-index: 1;}#sk-container-id-7 div.sk-parallel {display: flex;align-items: stretch;justify-content: center;background-color: white;position: relative;}#sk-container-id-7 div.sk-item::before, #sk-container-id-7 div.sk-parallel-item::before {content: \"\";position: absolute;border-left: 1px solid gray;box-sizing: border-box;top: 0;bottom: 0;left: 50%;z-index: -1;}#sk-container-id-7 div.sk-parallel-item {display: flex;flex-direction: column;z-index: 1;position: relative;background-color: white;}#sk-container-id-7 div.sk-parallel-item:first-child::after {align-self: flex-end;width: 50%;}#sk-container-id-7 div.sk-parallel-item:last-child::after {align-self: flex-start;width: 50%;}#sk-container-id-7 div.sk-parallel-item:only-child::after {width: 0;}#sk-container-id-7 div.sk-dashed-wrapped {border: 1px dashed gray;margin: 0 0.4em 0.5em 0.4em;box-sizing: border-box;padding-bottom: 0.4em;background-color: white;}#sk-container-id-7 div.sk-label label {font-family: monospace;font-weight: bold;display: inline-block;line-height: 1.2em;}#sk-container-id-7 div.sk-label-container {text-align: center;}#sk-container-id-7 div.sk-container {/* jupyter's `normalize.less` sets `[hidden] { display: none; }` but bootstrap.min.css set `[hidden] { display: none !important; }` so we also need the `!important` here to be able to override the default hidden behavior on the sphinx rendered scikit-learn.org. See: https://github.com/scikit-learn/scikit-learn/issues/21755 */display: inline-block !important;position: relative;}#sk-container-id-7 div.sk-text-repr-fallback {display: none;}</style><div id=\"sk-container-id-7\" class=\"sk-top-container\"><div class=\"sk-text-repr-fallback\"><pre>Pipeline(steps=[(&#x27;ss&#x27;, StandardScaler()),\n",
       "                (&#x27;ridge&#x27;,\n",
       "                 RidgeCV(alphas=[0.01, 0.1, 2, 5, 100],\n",
       "                         cv=KFold(n_splits=8, random_state=None, shuffle=False)))])</pre><b>In a Jupyter environment, please rerun this cell to show the HTML representation or trust the notebook. <br />On GitHub, the HTML representation is unable to render, please try loading this page with nbviewer.org.</b></div><div class=\"sk-container\" hidden><div class=\"sk-item sk-dashed-wrapped\"><div class=\"sk-label-container\"><div class=\"sk-label sk-toggleable\"><input class=\"sk-toggleable__control sk-hidden--visually\" id=\"sk-estimator-id-19\" type=\"checkbox\" ><label for=\"sk-estimator-id-19\" class=\"sk-toggleable__label sk-toggleable__label-arrow\">Pipeline</label><div class=\"sk-toggleable__content\"><pre>Pipeline(steps=[(&#x27;ss&#x27;, StandardScaler()),\n",
       "                (&#x27;ridge&#x27;,\n",
       "                 RidgeCV(alphas=[0.01, 0.1, 2, 5, 100],\n",
       "                         cv=KFold(n_splits=8, random_state=None, shuffle=False)))])</pre></div></div></div><div class=\"sk-serial\"><div class=\"sk-item\"><div class=\"sk-estimator sk-toggleable\"><input class=\"sk-toggleable__control sk-hidden--visually\" id=\"sk-estimator-id-20\" type=\"checkbox\" ><label for=\"sk-estimator-id-20\" class=\"sk-toggleable__label sk-toggleable__label-arrow\">StandardScaler</label><div class=\"sk-toggleable__content\"><pre>StandardScaler()</pre></div></div></div><div class=\"sk-item\"><div class=\"sk-estimator sk-toggleable\"><input class=\"sk-toggleable__control sk-hidden--visually\" id=\"sk-estimator-id-21\" type=\"checkbox\" ><label for=\"sk-estimator-id-21\" class=\"sk-toggleable__label sk-toggleable__label-arrow\">RidgeCV</label><div class=\"sk-toggleable__content\"><pre>RidgeCV(alphas=[0.01, 0.1, 2, 5, 100],\n",
       "        cv=KFold(n_splits=8, random_state=None, shuffle=False))</pre></div></div></div></div></div></div></div>"
      ],
      "text/plain": [
       "Pipeline(steps=[('ss', StandardScaler()),\n",
       "                ('ridge',\n",
       "                 RidgeCV(alphas=[0.01, 0.1, 2, 5, 100],\n",
       "                         cv=KFold(n_splits=8, random_state=None, shuffle=False)))])"
      ]
     },
     "execution_count": 56,
     "metadata": {},
     "output_type": "execute_result"
    }
   ],
   "source": [
    "pipe3.fit(X_train, y_train)"
   ]
  },
  {
   "cell_type": "code",
   "execution_count": 57,
   "id": "9f7c95c2-c0a6-4028-9217-10097be32da7",
   "metadata": {},
   "outputs": [
    {
     "data": {
      "text/html": [
       "<div>\n",
       "<style scoped>\n",
       "    .dataframe tbody tr th:only-of-type {\n",
       "        vertical-align: middle;\n",
       "    }\n",
       "\n",
       "    .dataframe tbody tr th {\n",
       "        vertical-align: top;\n",
       "    }\n",
       "\n",
       "    .dataframe thead th {\n",
       "        text-align: right;\n",
       "    }\n",
       "</style>\n",
       "<table border=\"1\" class=\"dataframe\">\n",
       "  <thead>\n",
       "    <tr style=\"text-align: right;\">\n",
       "      <th></th>\n",
       "      <th>tranc_yearmonth</th>\n",
       "      <th>town</th>\n",
       "      <th>flat_type</th>\n",
       "      <th>block</th>\n",
       "      <th>street_name</th>\n",
       "      <th>floor_area_sqm</th>\n",
       "      <th>flat_model</th>\n",
       "      <th>lease_commence_date</th>\n",
       "      <th>tranc_year</th>\n",
       "      <th>tranc_month</th>\n",
       "      <th>...</th>\n",
       "      <th>mrt_name</th>\n",
       "      <th>bus_interchange</th>\n",
       "      <th>bus_stop_nearest_distance</th>\n",
       "      <th>pri_sch_nearest_distance</th>\n",
       "      <th>pri_sch_name</th>\n",
       "      <th>pri_sch_affiliation</th>\n",
       "      <th>sec_sch_nearest_dist</th>\n",
       "      <th>sec_sch_name</th>\n",
       "      <th>cutoff_point</th>\n",
       "      <th>affiliation</th>\n",
       "    </tr>\n",
       "  </thead>\n",
       "  <tbody>\n",
       "    <tr>\n",
       "      <th>0</th>\n",
       "      <td>2012-11</td>\n",
       "      <td>YISHUN</td>\n",
       "      <td>4 ROOM</td>\n",
       "      <td>173</td>\n",
       "      <td>YISHUN AVE 7</td>\n",
       "      <td>84.0</td>\n",
       "      <td>Simplified</td>\n",
       "      <td>1987</td>\n",
       "      <td>2012</td>\n",
       "      <td>11</td>\n",
       "      <td>...</td>\n",
       "      <td>Canberra</td>\n",
       "      <td>0</td>\n",
       "      <td>75.683952</td>\n",
       "      <td>426.467910</td>\n",
       "      <td>Ahmad Ibrahim Primary School</td>\n",
       "      <td>0</td>\n",
       "      <td>156.322353</td>\n",
       "      <td>Ahmad Ibrahim Secondary School</td>\n",
       "      <td>218</td>\n",
       "      <td>0</td>\n",
       "    </tr>\n",
       "    <tr>\n",
       "      <th>1</th>\n",
       "      <td>2019-08</td>\n",
       "      <td>JURONG WEST</td>\n",
       "      <td>5 ROOM</td>\n",
       "      <td>986C</td>\n",
       "      <td>JURONG WEST ST 93</td>\n",
       "      <td>112.0</td>\n",
       "      <td>Premium Apartment</td>\n",
       "      <td>2008</td>\n",
       "      <td>2019</td>\n",
       "      <td>8</td>\n",
       "      <td>...</td>\n",
       "      <td>Pioneer</td>\n",
       "      <td>0</td>\n",
       "      <td>88.993058</td>\n",
       "      <td>439.756851</td>\n",
       "      <td>Jurong West Primary School</td>\n",
       "      <td>0</td>\n",
       "      <td>739.371688</td>\n",
       "      <td>Jurong West Secondary School</td>\n",
       "      <td>199</td>\n",
       "      <td>0</td>\n",
       "    </tr>\n",
       "    <tr>\n",
       "      <th>2</th>\n",
       "      <td>2013-10</td>\n",
       "      <td>ANG MO KIO</td>\n",
       "      <td>3 ROOM</td>\n",
       "      <td>534</td>\n",
       "      <td>ANG MO KIO AVE 10</td>\n",
       "      <td>68.0</td>\n",
       "      <td>New Generation</td>\n",
       "      <td>1980</td>\n",
       "      <td>2013</td>\n",
       "      <td>10</td>\n",
       "      <td>...</td>\n",
       "      <td>Ang Mo Kio</td>\n",
       "      <td>1</td>\n",
       "      <td>86.303575</td>\n",
       "      <td>355.882207</td>\n",
       "      <td>Jing Shan Primary School</td>\n",
       "      <td>0</td>\n",
       "      <td>305.071191</td>\n",
       "      <td>Anderson Secondary School</td>\n",
       "      <td>245</td>\n",
       "      <td>0</td>\n",
       "    </tr>\n",
       "    <tr>\n",
       "      <th>3</th>\n",
       "      <td>2017-10</td>\n",
       "      <td>WOODLANDS</td>\n",
       "      <td>4 ROOM</td>\n",
       "      <td>29</td>\n",
       "      <td>MARSILING DR</td>\n",
       "      <td>97.0</td>\n",
       "      <td>New Generation</td>\n",
       "      <td>1979</td>\n",
       "      <td>2017</td>\n",
       "      <td>10</td>\n",
       "      <td>...</td>\n",
       "      <td>Marsiling</td>\n",
       "      <td>0</td>\n",
       "      <td>108.459039</td>\n",
       "      <td>929.744711</td>\n",
       "      <td>Marsiling Primary School</td>\n",
       "      <td>0</td>\n",
       "      <td>433.454591</td>\n",
       "      <td>Woodlands Secondary School</td>\n",
       "      <td>188</td>\n",
       "      <td>0</td>\n",
       "    </tr>\n",
       "    <tr>\n",
       "      <th>4</th>\n",
       "      <td>2016-08</td>\n",
       "      <td>BUKIT BATOK</td>\n",
       "      <td>4 ROOM</td>\n",
       "      <td>170</td>\n",
       "      <td>BT BATOK WEST AVE 8</td>\n",
       "      <td>103.0</td>\n",
       "      <td>Model A</td>\n",
       "      <td>1985</td>\n",
       "      <td>2016</td>\n",
       "      <td>8</td>\n",
       "      <td>...</td>\n",
       "      <td>Chinese Garden</td>\n",
       "      <td>0</td>\n",
       "      <td>113.645431</td>\n",
       "      <td>309.926934</td>\n",
       "      <td>Princess Elizabeth Primary School</td>\n",
       "      <td>0</td>\n",
       "      <td>217.295361</td>\n",
       "      <td>Bukit Batok Secondary School</td>\n",
       "      <td>223</td>\n",
       "      <td>0</td>\n",
       "    </tr>\n",
       "  </tbody>\n",
       "</table>\n",
       "<p>5 rows × 40 columns</p>\n",
       "</div>"
      ],
      "text/plain": [
       "  tranc_yearmonth         town flat_type block          street_name  \\\n",
       "0         2012-11       YISHUN    4 ROOM   173         YISHUN AVE 7   \n",
       "1         2019-08  JURONG WEST    5 ROOM  986C    JURONG WEST ST 93   \n",
       "2         2013-10   ANG MO KIO    3 ROOM   534    ANG MO KIO AVE 10   \n",
       "3         2017-10    WOODLANDS    4 ROOM    29         MARSILING DR   \n",
       "4         2016-08  BUKIT BATOK    4 ROOM   170  BT BATOK WEST AVE 8   \n",
       "\n",
       "   floor_area_sqm         flat_model  lease_commence_date  tranc_year  \\\n",
       "0            84.0         Simplified                 1987        2012   \n",
       "1           112.0  Premium Apartment                 2008        2019   \n",
       "2            68.0     New Generation                 1980        2013   \n",
       "3            97.0     New Generation                 1979        2017   \n",
       "4           103.0            Model A                 1985        2016   \n",
       "\n",
       "   tranc_month  ...        mrt_name  bus_interchange  \\\n",
       "0           11  ...        Canberra                0   \n",
       "1            8  ...         Pioneer                0   \n",
       "2           10  ...      Ang Mo Kio                1   \n",
       "3           10  ...       Marsiling                0   \n",
       "4            8  ...  Chinese Garden                0   \n",
       "\n",
       "   bus_stop_nearest_distance  pri_sch_nearest_distance  \\\n",
       "0                  75.683952                426.467910   \n",
       "1                  88.993058                439.756851   \n",
       "2                  86.303575                355.882207   \n",
       "3                 108.459039                929.744711   \n",
       "4                 113.645431                309.926934   \n",
       "\n",
       "                        pri_sch_name  pri_sch_affiliation  \\\n",
       "0       Ahmad Ibrahim Primary School                    0   \n",
       "1         Jurong West Primary School                    0   \n",
       "2           Jing Shan Primary School                    0   \n",
       "3           Marsiling Primary School                    0   \n",
       "4  Princess Elizabeth Primary School                    0   \n",
       "\n",
       "   sec_sch_nearest_dist                    sec_sch_name cutoff_point  \\\n",
       "0            156.322353  Ahmad Ibrahim Secondary School          218   \n",
       "1            739.371688    Jurong West Secondary School          199   \n",
       "2            305.071191       Anderson Secondary School          245   \n",
       "3            433.454591      Woodlands Secondary School          188   \n",
       "4            217.295361    Bukit Batok Secondary School          223   \n",
       "\n",
       "   affiliation  \n",
       "0            0  \n",
       "1            0  \n",
       "2            0  \n",
       "3            0  \n",
       "4            0  \n",
       "\n",
       "[5 rows x 40 columns]"
      ]
     },
     "execution_count": 57,
     "metadata": {},
     "output_type": "execute_result"
    }
   ],
   "source": [
    "test_data.head()"
   ]
  },
  {
   "cell_type": "code",
   "execution_count": 58,
   "id": "9bac10db-4a84-4446-ba80-54bedb42cf66",
   "metadata": {},
   "outputs": [
    {
     "data": {
      "text/html": [
       "<div>\n",
       "<style scoped>\n",
       "    .dataframe tbody tr th:only-of-type {\n",
       "        vertical-align: middle;\n",
       "    }\n",
       "\n",
       "    .dataframe tbody tr th {\n",
       "        vertical-align: top;\n",
       "    }\n",
       "\n",
       "    .dataframe thead th {\n",
       "        text-align: right;\n",
       "    }\n",
       "</style>\n",
       "<table border=\"1\" class=\"dataframe\">\n",
       "  <thead>\n",
       "    <tr style=\"text-align: right;\">\n",
       "      <th></th>\n",
       "      <th>food_mark_stalls</th>\n",
       "      <th>mrt_pri_dist</th>\n",
       "      <th>mar_haw_pavi</th>\n",
       "      <th>comm_pavi</th>\n",
       "      <th>mscp_pavi</th>\n",
       "      <th>comm_mscp</th>\n",
       "      <th>floor_area_sqm</th>\n",
       "      <th>storey</th>\n",
       "      <th>hdb_age</th>\n",
       "      <th>mall_nearest_distance</th>\n",
       "      <th>...</th>\n",
       "      <th>ym_2020-07</th>\n",
       "      <th>ym_2020-08</th>\n",
       "      <th>ym_2020-09</th>\n",
       "      <th>ym_2020-10</th>\n",
       "      <th>ym_2020-11</th>\n",
       "      <th>ym_2020-12</th>\n",
       "      <th>ym_2021-01</th>\n",
       "      <th>ym_2021-02</th>\n",
       "      <th>ym_2021-03</th>\n",
       "      <th>ym_2021-04</th>\n",
       "    </tr>\n",
       "  </thead>\n",
       "  <tbody>\n",
       "    <tr>\n",
       "      <th>0</th>\n",
       "      <td>0</td>\n",
       "      <td>0</td>\n",
       "      <td>0</td>\n",
       "      <td>0</td>\n",
       "      <td>0</td>\n",
       "      <td>0</td>\n",
       "      <td>84.0</td>\n",
       "      <td>8</td>\n",
       "      <td>34</td>\n",
       "      <td>877.431572</td>\n",
       "      <td>...</td>\n",
       "      <td>0</td>\n",
       "      <td>0</td>\n",
       "      <td>0</td>\n",
       "      <td>0</td>\n",
       "      <td>0</td>\n",
       "      <td>0</td>\n",
       "      <td>0</td>\n",
       "      <td>0</td>\n",
       "      <td>0</td>\n",
       "      <td>0</td>\n",
       "    </tr>\n",
       "    <tr>\n",
       "      <th>1</th>\n",
       "      <td>0</td>\n",
       "      <td>0</td>\n",
       "      <td>0</td>\n",
       "      <td>0</td>\n",
       "      <td>0</td>\n",
       "      <td>0</td>\n",
       "      <td>112.0</td>\n",
       "      <td>5</td>\n",
       "      <td>13</td>\n",
       "      <td>534.037705</td>\n",
       "      <td>...</td>\n",
       "      <td>0</td>\n",
       "      <td>0</td>\n",
       "      <td>0</td>\n",
       "      <td>0</td>\n",
       "      <td>0</td>\n",
       "      <td>0</td>\n",
       "      <td>0</td>\n",
       "      <td>0</td>\n",
       "      <td>0</td>\n",
       "      <td>0</td>\n",
       "    </tr>\n",
       "    <tr>\n",
       "      <th>2</th>\n",
       "      <td>0</td>\n",
       "      <td>0</td>\n",
       "      <td>0</td>\n",
       "      <td>0</td>\n",
       "      <td>0</td>\n",
       "      <td>0</td>\n",
       "      <td>68.0</td>\n",
       "      <td>8</td>\n",
       "      <td>41</td>\n",
       "      <td>817.050453</td>\n",
       "      <td>...</td>\n",
       "      <td>0</td>\n",
       "      <td>0</td>\n",
       "      <td>0</td>\n",
       "      <td>0</td>\n",
       "      <td>0</td>\n",
       "      <td>0</td>\n",
       "      <td>0</td>\n",
       "      <td>0</td>\n",
       "      <td>0</td>\n",
       "      <td>0</td>\n",
       "    </tr>\n",
       "    <tr>\n",
       "      <th>3</th>\n",
       "      <td>0</td>\n",
       "      <td>0</td>\n",
       "      <td>0</td>\n",
       "      <td>0</td>\n",
       "      <td>0</td>\n",
       "      <td>0</td>\n",
       "      <td>97.0</td>\n",
       "      <td>2</td>\n",
       "      <td>42</td>\n",
       "      <td>1272.737194</td>\n",
       "      <td>...</td>\n",
       "      <td>0</td>\n",
       "      <td>0</td>\n",
       "      <td>0</td>\n",
       "      <td>0</td>\n",
       "      <td>0</td>\n",
       "      <td>0</td>\n",
       "      <td>0</td>\n",
       "      <td>0</td>\n",
       "      <td>0</td>\n",
       "      <td>0</td>\n",
       "    </tr>\n",
       "    <tr>\n",
       "      <th>4</th>\n",
       "      <td>0</td>\n",
       "      <td>0</td>\n",
       "      <td>0</td>\n",
       "      <td>0</td>\n",
       "      <td>0</td>\n",
       "      <td>0</td>\n",
       "      <td>103.0</td>\n",
       "      <td>17</td>\n",
       "      <td>36</td>\n",
       "      <td>1070.963675</td>\n",
       "      <td>...</td>\n",
       "      <td>0</td>\n",
       "      <td>0</td>\n",
       "      <td>0</td>\n",
       "      <td>0</td>\n",
       "      <td>0</td>\n",
       "      <td>0</td>\n",
       "      <td>0</td>\n",
       "      <td>0</td>\n",
       "      <td>0</td>\n",
       "      <td>0</td>\n",
       "    </tr>\n",
       "  </tbody>\n",
       "</table>\n",
       "<p>5 rows × 588 columns</p>\n",
       "</div>"
      ],
      "text/plain": [
       "   food_mark_stalls  mrt_pri_dist  mar_haw_pavi  comm_pavi  mscp_pavi  \\\n",
       "0                 0             0             0          0          0   \n",
       "1                 0             0             0          0          0   \n",
       "2                 0             0             0          0          0   \n",
       "3                 0             0             0          0          0   \n",
       "4                 0             0             0          0          0   \n",
       "\n",
       "   comm_mscp  floor_area_sqm  storey  hdb_age  mall_nearest_distance  ...  \\\n",
       "0          0            84.0       8       34             877.431572  ...   \n",
       "1          0           112.0       5       13             534.037705  ...   \n",
       "2          0            68.0       8       41             817.050453  ...   \n",
       "3          0            97.0       2       42            1272.737194  ...   \n",
       "4          0           103.0      17       36            1070.963675  ...   \n",
       "\n",
       "   ym_2020-07  ym_2020-08  ym_2020-09  ym_2020-10  ym_2020-11  ym_2020-12  \\\n",
       "0           0           0           0           0           0           0   \n",
       "1           0           0           0           0           0           0   \n",
       "2           0           0           0           0           0           0   \n",
       "3           0           0           0           0           0           0   \n",
       "4           0           0           0           0           0           0   \n",
       "\n",
       "   ym_2021-01  ym_2021-02  ym_2021-03  ym_2021-04  \n",
       "0           0           0           0           0  \n",
       "1           0           0           0           0  \n",
       "2           0           0           0           0  \n",
       "3           0           0           0           0  \n",
       "4           0           0           0           0  \n",
       "\n",
       "[5 rows x 588 columns]"
      ]
     },
     "execution_count": 58,
     "metadata": {},
     "output_type": "execute_result"
    }
   ],
   "source": [
    "data.head()"
   ]
  },
  {
   "cell_type": "code",
   "execution_count": 59,
   "id": "04b9b507-6197-416a-b618-7b13ef58bc75",
   "metadata": {},
   "outputs": [],
   "source": [
    "y_test_pred = pipe3.predict(data)"
   ]
  },
  {
   "cell_type": "code",
   "execution_count": 60,
   "id": "d134ee55-fe42-45fb-89ce-194e82cbac9c",
   "metadata": {},
   "outputs": [
    {
     "data": {
      "text/plain": [
       "array([14625942.54771159, 14805709.82109925, 14587292.81080606, ...,\n",
       "       14674872.28212246, 14791624.68761957, 14582788.36238952])"
      ]
     },
     "execution_count": 60,
     "metadata": {},
     "output_type": "execute_result"
    }
   ],
   "source": [
    "y_test_pred"
   ]
  },
  {
   "cell_type": "code",
   "execution_count": 61,
   "id": "33f28a74-627e-436c-81ac-4cd8367926dc",
   "metadata": {},
   "outputs": [],
   "source": [
    "df= pd.read_csv('datasets/test.csv', low_memory=False)"
   ]
  },
  {
   "cell_type": "code",
   "execution_count": 62,
   "id": "1c1cb188-a8b5-42e4-a096-c87c1ecc04cf",
   "metadata": {},
   "outputs": [],
   "source": [
    "to_submit = pd.DataFrame({'id': df['id'], 'Predicted': y_test_pred})"
   ]
  },
  {
   "cell_type": "code",
   "execution_count": 63,
   "id": "d7f4feab-fa38-440c-bde8-c9fd2243dae2",
   "metadata": {},
   "outputs": [
    {
     "data": {
      "text/html": [
       "<div>\n",
       "<style scoped>\n",
       "    .dataframe tbody tr th:only-of-type {\n",
       "        vertical-align: middle;\n",
       "    }\n",
       "\n",
       "    .dataframe tbody tr th {\n",
       "        vertical-align: top;\n",
       "    }\n",
       "\n",
       "    .dataframe thead th {\n",
       "        text-align: right;\n",
       "    }\n",
       "</style>\n",
       "<table border=\"1\" class=\"dataframe\">\n",
       "  <thead>\n",
       "    <tr style=\"text-align: right;\">\n",
       "      <th></th>\n",
       "      <th>id</th>\n",
       "      <th>Predicted</th>\n",
       "    </tr>\n",
       "  </thead>\n",
       "  <tbody>\n",
       "    <tr>\n",
       "      <th>0</th>\n",
       "      <td>114982</td>\n",
       "      <td>1.462594e+07</td>\n",
       "    </tr>\n",
       "    <tr>\n",
       "      <th>1</th>\n",
       "      <td>95653</td>\n",
       "      <td>1.480571e+07</td>\n",
       "    </tr>\n",
       "    <tr>\n",
       "      <th>2</th>\n",
       "      <td>40303</td>\n",
       "      <td>1.458729e+07</td>\n",
       "    </tr>\n",
       "    <tr>\n",
       "      <th>3</th>\n",
       "      <td>109506</td>\n",
       "      <td>1.462411e+07</td>\n",
       "    </tr>\n",
       "    <tr>\n",
       "      <th>4</th>\n",
       "      <td>100149</td>\n",
       "      <td>1.469374e+07</td>\n",
       "    </tr>\n",
       "  </tbody>\n",
       "</table>\n",
       "</div>"
      ],
      "text/plain": [
       "       id     Predicted\n",
       "0  114982  1.462594e+07\n",
       "1   95653  1.480571e+07\n",
       "2   40303  1.458729e+07\n",
       "3  109506  1.462411e+07\n",
       "4  100149  1.469374e+07"
      ]
     },
     "execution_count": 63,
     "metadata": {},
     "output_type": "execute_result"
    }
   ],
   "source": [
    "to_submit.head()"
   ]
  },
  {
   "cell_type": "code",
   "execution_count": 64,
   "id": "9e93d0cc-ec43-4bdb-a18c-7ec3cef9f9d9",
   "metadata": {},
   "outputs": [],
   "source": [
    "to_submit.to_csv('datasets/pred.csv',index=False)"
   ]
  },
  {
   "cell_type": "markdown",
   "id": "525e41e6-b8a4-40bb-afed-e9f0fa291154",
   "metadata": {},
   "source": [
    "## Conclusion and Recommendations"
   ]
  },
  {
   "cell_type": "markdown",
   "id": "88fbb441-bfb3-4280-bdf3-bd2a4232ed11",
   "metadata": {},
   "source": [
    "The resale prices are benchmarked based on the floor area of each type of unit. Through the model, certain areas such as Woodlands, Choa Chu Kang and Sembawang have prices lower than those in other regions, despite having the amenities and schools close to the HDB blocks. It also seems that people prefer living in taller HDB flats and near the MRT stations for easy transaportation. \n",
    "\n",
    "Because most towns would already have their own MRT station, one way to improve the desireability of the houses is to have easy accessibility from the blocks to the MRT stations. This could be done by increasing the frequency of feeder buses to the mrt station and improving the infrastructure around the blocks to the nearest bus stop or MRT stations such as walkways or PCN (Park Connector Networks)."
   ]
  },
  {
   "cell_type": "markdown",
   "id": "3d821c97-fe1c-4f14-b023-9479d2929954",
   "metadata": {},
   "source": [
    "## Limitations and Recommendations"
   ]
  },
  {
   "cell_type": "markdown",
   "id": "32c00df4-2a97-471e-89b0-eba72f892053",
   "metadata": {},
   "source": [
    "The housing prices could also be affected by other factors such as the number of buses available in the district or the distance from the block to the nearest expressway, the nearest distance to a community centre (CC) and the activities held at the CCs, which could be better features to use as analysis. \n",
    "\n",
    "We could also analyse the availability of feeder buses for intra-town commute as well as inter-town buses to explore how the assessibility between these regions and places affect the desirability of the resale unit on the block."
   ]
  }
 ],
 "metadata": {
  "kernelspec": {
   "display_name": "Python 3 (ipykernel)",
   "language": "python",
   "name": "python3"
  },
  "language_info": {
   "codemirror_mode": {
    "name": "ipython",
    "version": 3
   },
   "file_extension": ".py",
   "mimetype": "text/x-python",
   "name": "python",
   "nbconvert_exporter": "python",
   "pygments_lexer": "ipython3",
   "version": "3.10.9"
  }
 },
 "nbformat": 4,
 "nbformat_minor": 5
}
